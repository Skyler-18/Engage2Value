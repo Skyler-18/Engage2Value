{
  "cells": [
    {
      "cell_type": "markdown",
      "id": "50ebd4b8-7f75-4ce3-8856-6687a44c6fb9",
      "metadata": {
        "id": "50ebd4b8-7f75-4ce3-8856-6687a44c6fb9"
      },
      "source": [
        "# INCLUDES IMPROVED PREPROCESSING + FEATURE ENGINEERING + MODEL SELECTION + MODEL FINE TUNING"
      ]
    },
    {
      "cell_type": "code",
      "execution_count": null,
      "id": "eb2eb92c-53be-4bfc-bc16-c6fbc1906001",
      "metadata": {
        "id": "eb2eb92c-53be-4bfc-bc16-c6fbc1906001"
      },
      "outputs": [],
      "source": [
        "import numpy as np\n",
        "import pandas as pd"
      ]
    },
    {
      "cell_type": "code",
      "execution_count": null,
      "id": "401d047d-e3ec-43d5-bc0b-324ec1be20b6",
      "metadata": {
        "id": "401d047d-e3ec-43d5-bc0b-324ec1be20b6"
      },
      "outputs": [],
      "source": [
        "df = pd.read_csv('train_data.csv')"
      ]
    },
    {
      "cell_type": "code",
      "execution_count": null,
      "id": "a93626ad-f965-401a-9d81-83d6a8baf62e",
      "metadata": {
        "colab": {
          "base_uri": "https://localhost:8080/"
        },
        "id": "a93626ad-f965-401a-9d81-83d6a8baf62e",
        "outputId": "e3f4e98a-9579-4d9f-89c1-20be874efcda"
      },
      "outputs": [
        {
          "output_type": "execute_result",
          "data": {
            "text/plain": [
              "np.int64(236)"
            ]
          },
          "metadata": {},
          "execution_count": 160
        }
      ],
      "source": [
        "df.duplicated().sum()"
      ]
    },
    {
      "cell_type": "code",
      "execution_count": null,
      "id": "a90c5a4d-d7f3-4ebb-9dd1-1a6e2188d8ee",
      "metadata": {
        "id": "a90c5a4d-d7f3-4ebb-9dd1-1a6e2188d8ee"
      },
      "outputs": [],
      "source": [
        "df = df.drop_duplicates()"
      ]
    },
    {
      "cell_type": "code",
      "execution_count": null,
      "id": "6b557588-fd98-4ed0-8d29-5938b1b05ba3",
      "metadata": {
        "colab": {
          "base_uri": "https://localhost:8080/"
        },
        "id": "6b557588-fd98-4ed0-8d29-5938b1b05ba3",
        "outputId": "abd231ac-ecea-4c99-bbd3-dc5e1fb74c60"
      },
      "outputs": [
        {
          "output_type": "execute_result",
          "data": {
            "text/plain": [
              "np.int64(0)"
            ]
          },
          "metadata": {},
          "execution_count": 162
        }
      ],
      "source": [
        "df.duplicated().sum()"
      ]
    },
    {
      "cell_type": "code",
      "execution_count": null,
      "id": "3b59e617-0e2b-4872-84ee-cc715d8101ea",
      "metadata": {
        "colab": {
          "base_uri": "https://localhost:8080/"
        },
        "id": "3b59e617-0e2b-4872-84ee-cc715d8101ea",
        "outputId": "6030bce9-6401-4434-fd2b-34b29c20e02f"
      },
      "outputs": [
        {
          "output_type": "stream",
          "name": "stdout",
          "text": [
            "Columns Dropped:  ['device.mobileDeviceMarketingName', 'totals.visits', 'device.mobileDeviceBranding', 'device.operatingSystemVersion', 'locationZone', 'device.browserSize', 'device.screenResolution', 'trafficSource.adwordsClickInfo.adNetworkType', 'device.mobileInputSelector', 'device.flashVersion', 'trafficSource.adContent', 'trafficSource.adwordsClickInfo.slot', 'device.screenColors', 'device.language', 'browserMajor', 'device.mobileDeviceModel', 'device.browserVersion', 'screenSize', 'trafficSource.adwordsClickInfo.page', 'socialEngagementType', 'geoNetwork.networkLocation']\n"
          ]
        }
      ],
      "source": [
        "missing_thresh = 0.70\n",
        "missing_ratio = df.isnull().mean()\n",
        "drop_missing = missing_ratio[missing_ratio > missing_thresh].index.tolist()\n",
        "\n",
        "# Drop columns with only one unique value\n",
        "drop_constant = [col for col in df.columns if df[col].nunique() == 1]\n",
        "# Drop columns having string \"not available in demo\"\n",
        "drop_demo_cols = [col for col in df.columns if df[col].astype(str).str.contains(\"not available in demo\", case=False).all()]\n",
        "\n",
        "drop_cols = list(set(drop_missing + drop_constant + drop_demo_cols))\n",
        "\n",
        "cols_to_keep=['trafficSource.isTrueDirect', 'new_visits', 'totals.bounces', 'trafficSource.adwordsClickInfo.isVideoAd']\n",
        "for col in cols_to_keep:\n",
        "    drop_cols.remove(col)\n",
        "\n",
        "df = df.drop(columns=drop_cols)\n",
        "\n",
        "print(\"Columns Dropped: \", drop_cols)"
      ]
    },
    {
      "cell_type": "code",
      "execution_count": null,
      "id": "0905adf5-324d-494f-b6ff-0ddbfb7d5e0e",
      "metadata": {
        "id": "0905adf5-324d-494f-b6ff-0ddbfb7d5e0e"
      },
      "outputs": [],
      "source": [
        "df = df.dropna(subset=['date', 'sessionStart'])"
      ]
    },
    {
      "cell_type": "code",
      "execution_count": null,
      "id": "6d9b84d0-47af-43e2-81f2-dd57076d4e36",
      "metadata": {
        "id": "6d9b84d0-47af-43e2-81f2-dd57076d4e36"
      },
      "outputs": [],
      "source": [
        "# Replacing placeholder values with NaNs and NaN with 'missing'\n",
        "df['geoNetwork.region'] = df['geoNetwork.region'].replace(\"not available in demo dataset\", np.nan)\n",
        "df[\"geoNetwork.region\"] = df[\"geoNetwork.region\"].replace({\"(not set)\":np.nan})\n",
        "\n",
        "df[\"trafficSource.campaign\"] = df[\"trafficSource.campaign\"].replace({\"(not set)\":np.nan})\n",
        "df[\"trafficSource.keyword\"] = df[\"trafficSource.keyword\"].replace({np.nan:\"missing\"})"
      ]
    },
    {
      "cell_type": "code",
      "execution_count": null,
      "id": "7b75e3f3-df5a-4d04-bc87-251efe3c5c1b",
      "metadata": {
        "colab": {
          "base_uri": "https://localhost:8080/"
        },
        "id": "7b75e3f3-df5a-4d04-bc87-251efe3c5c1b",
        "outputId": "ff3a0f70-545b-4197-9371-26ce5a7dd278"
      },
      "outputs": [
        {
          "output_type": "stream",
          "name": "stderr",
          "text": [
            "/tmp/ipython-input-166-1927767471.py:8: FutureWarning: Downcasting object dtype arrays on .fillna, .ffill, .bfill is deprecated and will change in a future version. Call result.infer_objects(copy=False) instead. To opt-in to the future behavior, set `pd.set_option('future.no_silent_downcasting', True)`\n",
            "  df['trafficSource.isTrueDirect'] = df['trafficSource.isTrueDirect'].fillna(False)\n",
            "/tmp/ipython-input-166-1927767471.py:9: FutureWarning: Downcasting object dtype arrays on .fillna, .ffill, .bfill is deprecated and will change in a future version. Call result.infer_objects(copy=False) instead. To opt-in to the future behavior, set `pd.set_option('future.no_silent_downcasting', True)`\n",
            "  df['trafficSource.adwordsClickInfo.isVideoAd'] = df['trafficSource.adwordsClickInfo.isVideoAd'].fillna(True)\n"
          ]
        }
      ],
      "source": [
        "df['totals.bounces'] = df['totals.bounces'].fillna(0)\n",
        "df['new_visits'] = df['new_visits'].fillna(0)\n",
        "\n",
        "df['pageViews'] = df['pageViews'].fillna(1)\n",
        "df['totalHits'] = df['totalHits'].fillna(1)\n",
        "df['sessionNumber'] = df['sessionNumber'].fillna(1)\n",
        "\n",
        "df['trafficSource.isTrueDirect'] = df['trafficSource.isTrueDirect'].fillna(False)\n",
        "df['trafficSource.adwordsClickInfo.isVideoAd'] = df['trafficSource.adwordsClickInfo.isVideoAd'].fillna(True)"
      ]
    },
    {
      "cell_type": "code",
      "execution_count": null,
      "id": "9e523a8a-3d18-4560-8d28-3390899955e1",
      "metadata": {
        "id": "9e523a8a-3d18-4560-8d28-3390899955e1"
      },
      "outputs": [],
      "source": [
        "df['is_campaign_set'] = df['trafficSource.campaign'].notna().astype(int)\n",
        "df['has_referral'] = df['trafficSource.referralPath'].notna().astype(int)"
      ]
    },
    {
      "cell_type": "code",
      "execution_count": null,
      "id": "7743b2c0-7f66-404a-9c46-308fac1b4309",
      "metadata": {
        "id": "7743b2c0-7f66-404a-9c46-308fac1b4309"
      },
      "outputs": [],
      "source": [
        "df['region_city'] = df['geoNetwork.region'].astype(str) + \"_\" + df['geoNetwork.city'].astype(str)\n",
        "df['continent_subcontinent'] = df['geoNetwork.continent'].astype(str) + \"_\" + df['geoNetwork.subContinent'].astype(str)"
      ]
    },
    {
      "cell_type": "code",
      "execution_count": null,
      "id": "9de5069e-060d-417c-af15-6fd9b6bf73d0",
      "metadata": {
        "id": "9de5069e-060d-417c-af15-6fd9b6bf73d0"
      },
      "outputs": [],
      "source": [
        "# Engagement metric: ratio of pageViews to totalHits (+1 to avoid division by 0)\n",
        "df['page_hit_ratio'] = df['pageViews'] / (df['totalHits'] + 1)\n",
        "df['page_hit_ratio'] = df['page_hit_ratio'].fillna(0)\n",
        "\n",
        "# Number of unique sessions per user\n",
        "user_session_counts = df.groupby('userId')['sessionId'].nunique()\n",
        "df['user_session_count'] = df['userId'].map(user_session_counts)\n",
        "\n",
        "# Average purchase value per user\n",
        "user_avg_purchase = df.groupby('userId')['purchaseValue'].mean()\n",
        "df['avg_purchase_by_user'] = df['userId'].map(user_avg_purchase)"
      ]
    },
    {
      "cell_type": "code",
      "execution_count": null,
      "id": "1422bbf4-679e-47d9-b5af-3a3d0455b188",
      "metadata": {
        "id": "1422bbf4-679e-47d9-b5af-3a3d0455b188"
      },
      "outputs": [],
      "source": [
        "df['date'] = pd.to_datetime(df['date'], format='%Y%m%d')\n",
        "df['sessionStart'] = pd.to_datetime(df['sessionStart'], unit='s')\n",
        "\n",
        "df['day_of_week'] = df['date'].dt.dayofweek\n",
        "df['month'] = df['date'].dt.month\n",
        "df['hour'] = df['sessionStart'].dt.hour\n",
        "\n",
        "# Now drop after extraction\n",
        "df = df.drop(columns=['date', 'sessionStart'])"
      ]
    },
    {
      "cell_type": "code",
      "execution_count": null,
      "id": "d2f0eddb-05b1-46d0-88f4-2607e81d4c60",
      "metadata": {
        "id": "d2f0eddb-05b1-46d0-88f4-2607e81d4c60"
      },
      "outputs": [],
      "source": [
        "for col in ['sessionNumber', 'pageViews', 'totalHits']:\n",
        "    Q1 = df[col].quantile(0.10)\n",
        "    Q3 = df[col].quantile(0.90)\n",
        "\n",
        "    IQR = Q3 - Q1\n",
        "\n",
        "    lower_bound = Q1 - 1.5 * IQR\n",
        "    upper_bound = Q3 + 1.5 * IQR\n",
        "\n",
        "    df[col] = df[col].clip(lower=lower_bound, upper=upper_bound)"
      ]
    },
    {
      "cell_type": "code",
      "execution_count": null,
      "id": "18b4422b-37da-4f5e-af7a-c42ef7c7774a",
      "metadata": {
        "id": "18b4422b-37da-4f5e-af7a-c42ef7c7774a"
      },
      "outputs": [],
      "source": [
        "browser_counts = df['browser'].value_counts()\n",
        "valid_browsers = browser_counts[browser_counts >= 200].index\n",
        "\n",
        "df['browser'] = df['browser'].apply(lambda x: x if x in valid_browsers else 'Other')"
      ]
    },
    {
      "cell_type": "code",
      "source": [
        "df.shape"
      ],
      "metadata": {
        "colab": {
          "base_uri": "https://localhost:8080/"
        },
        "id": "brdnNGOx1P_f",
        "outputId": "9f9e9abb-9d51-43ae-f9e8-357395f05971"
      },
      "id": "brdnNGOx1P_f",
      "execution_count": null,
      "outputs": [
        {
          "output_type": "execute_result",
          "data": {
            "text/plain": [
              "(115787, 39)"
            ]
          },
          "metadata": {},
          "execution_count": 173
        }
      ]
    },
    {
      "cell_type": "code",
      "execution_count": null,
      "id": "dabdd4bb-5db9-4aae-b4d6-30d52ebce0a5",
      "metadata": {
        "id": "dabdd4bb-5db9-4aae-b4d6-30d52ebce0a5"
      },
      "outputs": [],
      "source": [
        "X = df.drop(columns='purchaseValue')\n",
        "y = df['purchaseValue']"
      ]
    },
    {
      "cell_type": "code",
      "execution_count": null,
      "id": "a499b06d-b239-40e9-aed5-bb14dfc4f025",
      "metadata": {
        "id": "a499b06d-b239-40e9-aed5-bb14dfc4f025"
      },
      "outputs": [],
      "source": [
        "from sklearn.model_selection import train_test_split\n",
        "\n",
        "X_train, X_test, y_train, y_test = train_test_split(X, y, test_size=0.2, random_state=42)"
      ]
    },
    {
      "cell_type": "code",
      "execution_count": null,
      "id": "031908ed-f9a0-48a0-bd5a-57b20a42d3f6",
      "metadata": {
        "colab": {
          "base_uri": "https://localhost:8080/"
        },
        "id": "031908ed-f9a0-48a0-bd5a-57b20a42d3f6",
        "outputId": "eddd7f50-98d5-4b71-df60-852c3b8e09fd"
      },
      "outputs": [
        {
          "output_type": "execute_result",
          "data": {
            "text/plain": [
              "(92629, 38)"
            ]
          },
          "metadata": {},
          "execution_count": 176
        }
      ],
      "source": [
        "X_train.shape"
      ]
    },
    {
      "cell_type": "code",
      "execution_count": null,
      "id": "29a4e076-00d9-45c2-be5f-3bd21d3e4d09",
      "metadata": {
        "colab": {
          "base_uri": "https://localhost:8080/"
        },
        "id": "29a4e076-00d9-45c2-be5f-3bd21d3e4d09",
        "outputId": "6e6f7b42-0499-45a9-fc57-8b50675fac01"
      },
      "outputs": [
        {
          "output_type": "execute_result",
          "data": {
            "text/plain": [
              "(92629,)"
            ]
          },
          "metadata": {},
          "execution_count": 177
        }
      ],
      "source": [
        "y_train.shape"
      ]
    },
    {
      "cell_type": "code",
      "execution_count": null,
      "id": "8c9b1727-165b-4a08-af5c-3d39489528be",
      "metadata": {
        "colab": {
          "base_uri": "https://localhost:8080/"
        },
        "id": "8c9b1727-165b-4a08-af5c-3d39489528be",
        "outputId": "34e79ff6-c1f9-4a15-8009-730e81c66cf7"
      },
      "outputs": [
        {
          "output_type": "execute_result",
          "data": {
            "text/plain": [
              "(23158, 38)"
            ]
          },
          "metadata": {},
          "execution_count": 178
        }
      ],
      "source": [
        "X_test.shape"
      ]
    },
    {
      "cell_type": "code",
      "execution_count": null,
      "id": "e17d9f5e-275c-49c6-bf79-c5c6d8c96d37",
      "metadata": {
        "colab": {
          "base_uri": "https://localhost:8080/"
        },
        "id": "e17d9f5e-275c-49c6-bf79-c5c6d8c96d37",
        "outputId": "4c93a036-ddd9-40e2-ee63-e5ae17aae087"
      },
      "outputs": [
        {
          "output_type": "execute_result",
          "data": {
            "text/plain": [
              "(23158,)"
            ]
          },
          "metadata": {},
          "execution_count": 179
        }
      ],
      "source": [
        "y_test.shape"
      ]
    },
    {
      "cell_type": "code",
      "execution_count": null,
      "id": "f38f1287-790c-477c-b18f-2402ade98e7d",
      "metadata": {
        "colab": {
          "base_uri": "https://localhost:8080/"
        },
        "id": "f38f1287-790c-477c-b18f-2402ade98e7d",
        "outputId": "a4aadeb7-66ba-48a6-b4c5-3164b5bb3865"
      },
      "outputs": [
        {
          "output_type": "stream",
          "name": "stdout",
          "text": [
            "<class 'pandas.core.frame.DataFrame'>\n",
            "Index: 92629 entries, 1640 to 15799\n",
            "Data columns (total 38 columns):\n",
            " #   Column                                    Non-Null Count  Dtype  \n",
            "---  ------                                    --------------  -----  \n",
            " 0   trafficSource.isTrueDirect                92629 non-null  bool   \n",
            " 1   browser                                   92629 non-null  object \n",
            " 2   trafficSource.keyword                     92629 non-null  object \n",
            " 3   geoCluster                                92629 non-null  object \n",
            " 4   userId                                    92629 non-null  int64  \n",
            " 5   trafficSource.campaign                    4621 non-null   object \n",
            " 6   geoNetwork.networkDomain                  92629 non-null  object \n",
            " 7   gclIdPresent                              92629 non-null  int64  \n",
            " 8   sessionNumber                             92629 non-null  float64\n",
            " 9   geoNetwork.region                         42370 non-null  object \n",
            " 10  trafficSource                             92629 non-null  object \n",
            " 11  sessionId                                 92629 non-null  int64  \n",
            " 12  os                                        92629 non-null  object \n",
            " 13  geoNetwork.subContinent                   92629 non-null  object \n",
            " 14  trafficSource.medium                      92629 non-null  object \n",
            " 15  trafficSource.adwordsClickInfo.isVideoAd  92629 non-null  bool   \n",
            " 16  locationCountry                           92629 non-null  object \n",
            " 17  geoNetwork.city                           92629 non-null  object \n",
            " 18  geoNetwork.metro                          92629 non-null  object \n",
            " 19  pageViews                                 92629 non-null  float64\n",
            " 20  trafficSource.referralPath                34157 non-null  object \n",
            " 21  totals.bounces                            92629 non-null  float64\n",
            " 22  deviceType                                92629 non-null  object \n",
            " 23  userChannel                               92629 non-null  object \n",
            " 24  totalHits                                 92629 non-null  int64  \n",
            " 25  geoNetwork.continent                      92629 non-null  object \n",
            " 26  device.isMobile                           92629 non-null  bool   \n",
            " 27  new_visits                                92629 non-null  float64\n",
            " 28  is_campaign_set                           92629 non-null  int64  \n",
            " 29  has_referral                              92629 non-null  int64  \n",
            " 30  region_city                               92629 non-null  object \n",
            " 31  continent_subcontinent                    92629 non-null  object \n",
            " 32  page_hit_ratio                            92629 non-null  float64\n",
            " 33  user_session_count                        92629 non-null  int64  \n",
            " 34  avg_purchase_by_user                      92629 non-null  float64\n",
            " 35  day_of_week                               92629 non-null  int32  \n",
            " 36  month                                     92629 non-null  int32  \n",
            " 37  hour                                      92629 non-null  int32  \n",
            "dtypes: bool(3), float64(6), int32(3), int64(7), object(19)\n",
            "memory usage: 24.6+ MB\n"
          ]
        }
      ],
      "source": [
        "X_train.info()"
      ]
    },
    {
      "cell_type": "code",
      "execution_count": null,
      "id": "8ec92647-7876-476f-946c-1f64bb055569",
      "metadata": {
        "colab": {
          "base_uri": "https://localhost:8080/"
        },
        "id": "8ec92647-7876-476f-946c-1f64bb055569",
        "outputId": "4e566bd9-49c6-40ad-9431-51187d26ace0"
      },
      "outputs": [
        {
          "output_type": "stream",
          "name": "stdout",
          "text": [
            "Numerical Columns:  ['trafficSource.isTrueDirect', 'userId', 'gclIdPresent', 'sessionNumber', 'sessionId', 'trafficSource.adwordsClickInfo.isVideoAd', 'pageViews', 'totals.bounces', 'totalHits', 'device.isMobile', 'new_visits', 'is_campaign_set', 'has_referral', 'page_hit_ratio', 'user_session_count', 'avg_purchase_by_user', 'day_of_week', 'month', 'hour']\n",
            "\n",
            "Categorical Columns:  ['browser', 'trafficSource.keyword', 'geoCluster', 'trafficSource.campaign', 'geoNetwork.networkDomain', 'geoNetwork.region', 'trafficSource', 'os', 'geoNetwork.subContinent', 'trafficSource.medium', 'locationCountry', 'geoNetwork.city', 'geoNetwork.metro', 'trafficSource.referralPath', 'deviceType', 'userChannel', 'geoNetwork.continent', 'region_city', 'continent_subcontinent']\n"
          ]
        }
      ],
      "source": [
        "num_cols = X_train.select_dtypes(include=['float64','int64','bool','int32']).columns.tolist()\n",
        "cat_cols = X_train.select_dtypes(include='object').columns.tolist()\n",
        "\n",
        "print(\"Numerical Columns: \", num_cols)\n",
        "print(\"\\nCategorical Columns: \", cat_cols)"
      ]
    },
    {
      "cell_type": "code",
      "execution_count": null,
      "id": "ddf9da91-a35d-4052-864e-81e38a2fb267",
      "metadata": {
        "id": "ddf9da91-a35d-4052-864e-81e38a2fb267"
      },
      "outputs": [],
      "source": [
        "# Choosing numerical columns that need scaling\n",
        "num_cols = ['pageViews', 'totalHits', 'sessionNumber','user_session_count']"
      ]
    },
    {
      "cell_type": "code",
      "execution_count": null,
      "id": "8da97d47-d2dd-4de4-a389-aa0db905a57b",
      "metadata": {
        "id": "8da97d47-d2dd-4de4-a389-aa0db905a57b"
      },
      "outputs": [],
      "source": [
        "# Separating categorical columns with greater than 10 unique values\n",
        "low_card_cat_cols = list()\n",
        "high_card_cat_cols = list()\n",
        "\n",
        "for col in cat_cols:\n",
        "    if (X_train[col].nunique() < 10):\n",
        "        low_card_cat_cols.append(col)\n",
        "    else:\n",
        "        high_card_cat_cols.append(col)"
      ]
    },
    {
      "cell_type": "code",
      "execution_count": null,
      "id": "6c26688a-ef36-4503-aa7e-85a938033f7e",
      "metadata": {
        "colab": {
          "base_uri": "https://localhost:8080/"
        },
        "id": "6c26688a-ef36-4503-aa7e-85a938033f7e",
        "outputId": "9d63be9b-2319-4c1b-b5b7-f52a63171def"
      },
      "outputs": [
        {
          "output_type": "stream",
          "name": "stdout",
          "text": [
            "Numerical columns to scale:  ['pageViews', 'totalHits', 'sessionNumber', 'user_session_count']\n",
            "\n",
            "Low cradinality columns to One-Hot encode:  ['geoCluster', 'geoNetwork.networkDomain', 'trafficSource.medium', 'deviceType', 'userChannel', 'geoNetwork.continent']\n",
            "\n",
            "High cradinality columns to Target encode:  ['browser', 'trafficSource.keyword', 'trafficSource.campaign', 'geoNetwork.region', 'trafficSource', 'os', 'geoNetwork.subContinent', 'locationCountry', 'geoNetwork.city', 'geoNetwork.metro', 'trafficSource.referralPath', 'region_city', 'continent_subcontinent']\n"
          ]
        }
      ],
      "source": [
        "print(\"Numerical columns to scale: \", num_cols)\n",
        "print()\n",
        "print(\"Low cradinality columns to One-Hot encode: \", low_card_cat_cols)\n",
        "print()\n",
        "print(\"High cradinality columns to Target encode: \", high_card_cat_cols)"
      ]
    },
    {
      "cell_type": "code",
      "source": [
        "!pip install category_encoders"
      ],
      "metadata": {
        "colab": {
          "base_uri": "https://localhost:8080/"
        },
        "id": "D1O1DwoFHxzI",
        "outputId": "f35c2795-c7ab-464d-db7d-1a29877a09cd"
      },
      "id": "D1O1DwoFHxzI",
      "execution_count": null,
      "outputs": [
        {
          "output_type": "stream",
          "name": "stdout",
          "text": [
            "Requirement already satisfied: category_encoders in /usr/local/lib/python3.11/dist-packages (2.8.1)\n",
            "Requirement already satisfied: numpy>=1.14.0 in /usr/local/lib/python3.11/dist-packages (from category_encoders) (2.0.2)\n",
            "Requirement already satisfied: pandas>=1.0.5 in /usr/local/lib/python3.11/dist-packages (from category_encoders) (2.2.2)\n",
            "Requirement already satisfied: patsy>=0.5.1 in /usr/local/lib/python3.11/dist-packages (from category_encoders) (1.0.1)\n",
            "Requirement already satisfied: scikit-learn>=1.6.0 in /usr/local/lib/python3.11/dist-packages (from category_encoders) (1.6.1)\n",
            "Requirement already satisfied: scipy>=1.0.0 in /usr/local/lib/python3.11/dist-packages (from category_encoders) (1.16.0)\n",
            "Requirement already satisfied: statsmodels>=0.9.0 in /usr/local/lib/python3.11/dist-packages (from category_encoders) (0.14.5)\n",
            "Requirement already satisfied: python-dateutil>=2.8.2 in /usr/local/lib/python3.11/dist-packages (from pandas>=1.0.5->category_encoders) (2.9.0.post0)\n",
            "Requirement already satisfied: pytz>=2020.1 in /usr/local/lib/python3.11/dist-packages (from pandas>=1.0.5->category_encoders) (2025.2)\n",
            "Requirement already satisfied: tzdata>=2022.7 in /usr/local/lib/python3.11/dist-packages (from pandas>=1.0.5->category_encoders) (2025.2)\n",
            "Requirement already satisfied: joblib>=1.2.0 in /usr/local/lib/python3.11/dist-packages (from scikit-learn>=1.6.0->category_encoders) (1.5.1)\n",
            "Requirement already satisfied: threadpoolctl>=3.1.0 in /usr/local/lib/python3.11/dist-packages (from scikit-learn>=1.6.0->category_encoders) (3.6.0)\n",
            "Requirement already satisfied: packaging>=21.3 in /usr/local/lib/python3.11/dist-packages (from statsmodels>=0.9.0->category_encoders) (25.0)\n",
            "Requirement already satisfied: six>=1.5 in /usr/local/lib/python3.11/dist-packages (from python-dateutil>=2.8.2->pandas>=1.0.5->category_encoders) (1.17.0)\n"
          ]
        }
      ]
    },
    {
      "cell_type": "code",
      "execution_count": null,
      "id": "bc4800fc-8508-4dfb-bef4-dd1ac23f5c41",
      "metadata": {
        "id": "bc4800fc-8508-4dfb-bef4-dd1ac23f5c41"
      },
      "outputs": [],
      "source": [
        "import category_encoders as ce\n",
        "from sklearn.pipeline import Pipeline\n",
        "from sklearn.impute import SimpleImputer\n",
        "from sklearn.compose import ColumnTransformer\n",
        "from sklearn.preprocessing import RobustScaler, OneHotEncoder\n",
        "\n",
        "# Imputing missing values of numerical columns with Median and Scaling\n",
        "numeric_pipeline = Pipeline([\n",
        "    ('imputer', SimpleImputer(strategy='median')),\n",
        "    ('scaler', RobustScaler())\n",
        "])\n",
        "\n",
        "# Imputing missing values with Mode and One-Hot Encoding for low cardinality columns\n",
        "low_card_cat_pipeline = Pipeline([\n",
        "    ('imputer', SimpleImputer(strategy='most_frequent')),\n",
        "    ('label_encoder', OneHotEncoder(handle_unknown=\"ignore\", sparse_output=False))\n",
        "])\n",
        "\n",
        "# Inputing missing values with Mode and Target Encoding for high cardinality columns\n",
        "high_card_cat_pipeline = Pipeline([\n",
        "    ('imputer', SimpleImputer(strategy='most_frequent')),\n",
        "    ('encoder', ce.TargetEncoder())\n",
        "])\n",
        "\n",
        "# Combining pipelines in Column Transformer and passing the remainder columns as it is\n",
        "preprocessor = ColumnTransformer([\n",
        "    ('num', numeric_pipeline, num_cols),\n",
        "    ('low_card_cat', low_card_cat_pipeline, low_card_cat_cols),\n",
        "    ('high_card_cat', high_card_cat_pipeline, high_card_cat_cols)\n",
        "]\n",
        ", remainder='passthrough')"
      ]
    },
    {
      "cell_type": "code",
      "execution_count": null,
      "id": "ec96c96a-27c9-41fd-b8d1-b4d0fdb00710",
      "metadata": {
        "colab": {
          "base_uri": "https://localhost:8080/"
        },
        "id": "ec96c96a-27c9-41fd-b8d1-b4d0fdb00710",
        "outputId": "f01a872f-d793-48fc-867f-71bc0abbe0c6"
      },
      "outputs": [
        {
          "output_type": "stream",
          "name": "stdout",
          "text": [
            "Preprocessing Done\n",
            "\n",
            "Preprocessed X_train shape:  (92629, 64)\n",
            "Preprocessed X_test shape:  (23158, 64)\n"
          ]
        }
      ],
      "source": [
        "# Fit and transform the training set\n",
        "X_train_preprocessed = preprocessor.fit_transform(X_train, y_train)\n",
        "# Transform the validation set\n",
        "X_test_preprocessed = preprocessor.transform(X_test)\n",
        "\n",
        "print(\"Preprocessing Done\")\n",
        "print()\n",
        "print(\"Preprocessed X_train shape: \", X_train_preprocessed.shape)\n",
        "print(\"Preprocessed X_test shape: \", X_test_preprocessed.shape)"
      ]
    },
    {
      "cell_type": "code",
      "execution_count": null,
      "id": "27c5b901-f4de-40a9-8f6b-072525c4609c",
      "metadata": {
        "id": "27c5b901-f4de-40a9-8f6b-072525c4609c"
      },
      "outputs": [],
      "source": [
        "# from lightgbm import LGBMRegressor\n",
        "# from xgboost import XGBRegressor\n",
        "# from catboost import CatBoostRegressor\n",
        "# from sklearn.ensemble import HistGradientBoostingRegressor, RandomForestRegressor\n",
        "# from sklearn.metrics import r2_score\n",
        "\n",
        "# models = {\n",
        "#     \"LGBM\": LGBMRegressor(random_state=42),\n",
        "#     \"XGB\": XGBRegressor(random_state=42),\n",
        "#     \"CatBoost\": CatBoostRegressor(verbose=0, random_state=42),\n",
        "#     \"HistGB\": HistGradientBoostingRegressor(random_state=42),\n",
        "#     \"RF\": RandomForestRegressor(random_state=42)\n",
        "# }\n",
        "\n",
        "# results = []\n",
        "\n",
        "# for name, model in models.items():\n",
        "#     try:\n",
        "#         # Fit the model\n",
        "#         model.fit(X_train_preprocessed, y_train)\n",
        "#         print(f'{name}: Fitted Successfully on Training Data!')\n",
        "\n",
        "#         # Make predictions\n",
        "#         y_pred = model.predict(X_test_preprocessed)\n",
        "#         print(f'{name}: Predictions Made Successfully on Test Data!')\n",
        "\n",
        "#         # Calculate R2 score\n",
        "#         score = r2_score(y_test, y_pred)\n",
        "#         print(f'{name}: R2 Score Calculated Successfully! → {score:.4f}\\n')\n",
        "\n",
        "#         # Store results\n",
        "#         results.append({\n",
        "#             'Model': name,\n",
        "#             'R2 Score': score\n",
        "#         })\n",
        "#     except Exception as e:\n",
        "#         print(f\"Error with {name}: {str(e)}\")\n",
        "#         results.append({\n",
        "#             'Model': name,\n",
        "#             'R2 Score': None,\n",
        "#             'Error': str(e)\n",
        "#         })\n",
        "\n",
        "# # Create a results dataframe\n",
        "# results_df = pd.DataFrame(results).sort_values(by='R2 Score', ascending=False)\n",
        "# print(\"\\nFinal Results:\")\n",
        "# print(results_df)"
      ]
    },
    {
      "cell_type": "code",
      "execution_count": null,
      "id": "f5a6ed29-5d5c-44d8-8430-271cb54c8d79",
      "metadata": {
        "id": "f5a6ed29-5d5c-44d8-8430-271cb54c8d79"
      },
      "outputs": [],
      "source": [
        "# import optuna\n",
        "# from sklearn.model_selection import cross_val_score\n",
        "\n",
        "# def objective(trial):\n",
        "#     model_name = trial.suggest_categorical(\"model\", [\"LGBM\", \"XGB\", \"CatBoost\"])\n",
        "\n",
        "#     if model_name == \"LGBM\":\n",
        "#         params = {\n",
        "#             \"n_estimators\": trial.suggest_int(\"lgbm_n_estimators\", 50, 500),\n",
        "#             \"max_depth\": trial.suggest_int(\"lgbm_max_depth\", 3, 12),\n",
        "#             \"learning_rate\": trial.suggest_float(\"lgbm_lr\", 1e-3, 0.3, log=True),\n",
        "#             \"subsample\": trial.suggest_float(\"lgbm_subsample\", 0.6, 1.0),\n",
        "#         }\n",
        "#         model = LGBMRegressor(**params, random_state=42)\n",
        "\n",
        "#     elif model_name == \"XGB\":\n",
        "#         params = {\n",
        "#             \"n_estimators\": trial.suggest_int(\"xgb_n_estimators\", 50, 500),\n",
        "#             \"max_depth\": trial.suggest_int(\"xgb_max_depth\", 3, 12),\n",
        "#             \"learning_rate\": trial.suggest_float(\"xgb_lr\", 1e-3, 0.3, log=True),\n",
        "#             \"subsample\": trial.suggest_float(\"xgb_subsample\", 0.6, 1.0),\n",
        "#             \"colsample_bytree\": trial.suggest_float(\"xgb_colsample\", 0.6, 1.0),\n",
        "#         }\n",
        "#         model = XGBRegressor(**params, random_state=42, tree_method=\"hist\")\n",
        "\n",
        "#     elif model_name == \"CatBoost\":\n",
        "#         params = {\n",
        "#             \"iterations\": trial.suggest_int(\"catboost_iter\", 50, 500),\n",
        "#             \"depth\": trial.suggest_int(\"catboost_depth\", 3, 10),\n",
        "#             \"learning_rate\": trial.suggest_float(\"catboost_lr\", 1e-3, 0.3, log=True),\n",
        "#         }\n",
        "#         model = CatBoostRegressor(**params, verbose=0, random_state=42)\n",
        "\n",
        "#     # Evaluate using cross-validation\n",
        "#     score = cross_val_score(model, X_train_preprocessed, y_train, cv=3, scoring=\"r2\").mean()\n",
        "#     return score"
      ]
    },
    {
      "cell_type": "code",
      "execution_count": null,
      "id": "e3ef48d5-bec3-476c-bae2-1dd43dcaf6ff",
      "metadata": {
        "scrolled": true,
        "id": "e3ef48d5-bec3-476c-bae2-1dd43dcaf6ff"
      },
      "outputs": [],
      "source": [
        "# study = optuna.create_study(direction=\"maximize\")\n",
        "# study.optimize(objective, n_trials=50)\n",
        "\n",
        "# print(\"Best trial:\")\n",
        "# trial = study.best_trial\n",
        "# print(f\"Model: {trial.params['model']}\")\n",
        "# print(f\"R² Score: {trial.value:.4f}\")\n",
        "# print(\"Best Params:\", trial.params)"
      ]
    },
    {
      "cell_type": "code",
      "execution_count": null,
      "id": "7ad8764c-5b46-4c4a-9678-4b4c0dcdff75",
      "metadata": {
        "id": "7ad8764c-5b46-4c4a-9678-4b4c0dcdff75"
      },
      "outputs": [],
      "source": [
        "test = pd.read_csv('test_data.csv')"
      ]
    },
    {
      "cell_type": "code",
      "execution_count": null,
      "id": "e8df824a-544b-4d0c-8279-e3959f33f5ea",
      "metadata": {
        "id": "e8df824a-544b-4d0c-8279-e3959f33f5ea"
      },
      "outputs": [],
      "source": [
        "cols_to_drop = ['trafficSource.adwordsClickInfo.adNetworkType', 'geoNetwork.networkLocation', 'browserMajor',\n",
        "                'device.mobileDeviceBranding', 'device.browserSize', 'socialEngagementType', 'trafficSource.adwordsClickInfo.page',\n",
        "                'locationZone', 'totals.visits', 'device.mobileDeviceModel', 'trafficSource.adwordsClickInfo.slot',\n",
        "                'device.mobileDeviceMarketingName', 'device.language', 'device.flashVersion', 'device.screenResolution', 'screenSize',\n",
        "                'device.operatingSystemVersion', 'device.browserVersion', 'trafficSource.adContent', 'device.screenColors',\n",
        "                'device.mobileInputSelector']\n",
        "\n",
        "test = test.drop(columns=cols_to_drop)"
      ]
    },
    {
      "cell_type": "code",
      "execution_count": null,
      "id": "27f11400-2129-43ca-98fb-46ad1dce0db2",
      "metadata": {
        "id": "27f11400-2129-43ca-98fb-46ad1dce0db2"
      },
      "outputs": [],
      "source": [
        "# Replacing placeholder values with NaNs and NaN with 'missing'\n",
        "test['geoNetwork.region'] = test['geoNetwork.region'].replace(\"not available in demo dataset\", np.nan)\n",
        "test[\"geoNetwork.region\"] = test[\"geoNetwork.region\"].replace({\"(not set)\":np.nan})\n",
        "\n",
        "test[\"trafficSource.campaign\"] = test[\"trafficSource.campaign\"].replace({\"(not set)\":np.nan})\n",
        "test[\"trafficSource.keyword\"] = test[\"trafficSource.keyword\"].replace({np.nan:\"missing\"})"
      ]
    },
    {
      "cell_type": "code",
      "execution_count": null,
      "id": "f586a763-74a4-4f05-a6f6-c80128fac018",
      "metadata": {
        "colab": {
          "base_uri": "https://localhost:8080/"
        },
        "id": "f586a763-74a4-4f05-a6f6-c80128fac018",
        "outputId": "33ed3101-b265-4095-c39a-bf9641304944"
      },
      "outputs": [
        {
          "output_type": "stream",
          "name": "stderr",
          "text": [
            "/tmp/ipython-input-194-2286199790.py:8: FutureWarning: Downcasting object dtype arrays on .fillna, .ffill, .bfill is deprecated and will change in a future version. Call result.infer_objects(copy=False) instead. To opt-in to the future behavior, set `pd.set_option('future.no_silent_downcasting', True)`\n",
            "  test['trafficSource.isTrueDirect'] = test['trafficSource.isTrueDirect'].fillna(False)\n",
            "/tmp/ipython-input-194-2286199790.py:9: FutureWarning: Downcasting object dtype arrays on .fillna, .ffill, .bfill is deprecated and will change in a future version. Call result.infer_objects(copy=False) instead. To opt-in to the future behavior, set `pd.set_option('future.no_silent_downcasting', True)`\n",
            "  test['trafficSource.adwordsClickInfo.isVideoAd'] = test['trafficSource.adwordsClickInfo.isVideoAd'].fillna(True)\n"
          ]
        }
      ],
      "source": [
        "test['totals.bounces'] = test['totals.bounces'].fillna(0)\n",
        "test['new_visits'] = test['new_visits'].fillna(0)\n",
        "\n",
        "test['pageViews'] = test['pageViews'].fillna(1)\n",
        "test['totalHits'] = test['totalHits'].fillna(1)\n",
        "test['sessionNumber'] = test['sessionNumber'].fillna(1)\n",
        "\n",
        "test['trafficSource.isTrueDirect'] = test['trafficSource.isTrueDirect'].fillna(False)\n",
        "test['trafficSource.adwordsClickInfo.isVideoAd'] = test['trafficSource.adwordsClickInfo.isVideoAd'].fillna(True)"
      ]
    },
    {
      "cell_type": "code",
      "execution_count": null,
      "id": "6a795043-ef56-418d-b4d5-b4d3a071f4ab",
      "metadata": {
        "id": "6a795043-ef56-418d-b4d5-b4d3a071f4ab"
      },
      "outputs": [],
      "source": [
        "test['is_campaign_set'] = test['trafficSource.campaign'].notna().astype(int)\n",
        "test['has_referral'] = test['trafficSource.referralPath'].notna().astype(int)"
      ]
    },
    {
      "cell_type": "code",
      "execution_count": null,
      "id": "27458a92-c3b8-4457-8439-65139ed02b52",
      "metadata": {
        "id": "27458a92-c3b8-4457-8439-65139ed02b52"
      },
      "outputs": [],
      "source": [
        "test['region_city'] = test['geoNetwork.region'].astype(str) + \"_\" + test['geoNetwork.city'].astype(str)\n",
        "test['continent_subcontinent'] = test['geoNetwork.continent'].astype(str) + \"_\" + test['geoNetwork.subContinent'].astype(str)"
      ]
    },
    {
      "cell_type": "code",
      "execution_count": null,
      "id": "bb435120-9b31-4d77-9046-cfa0a98534b2",
      "metadata": {
        "id": "bb435120-9b31-4d77-9046-cfa0a98534b2"
      },
      "outputs": [],
      "source": [
        "# Engagement metric: ratio of pageViews to totalHits (+1 to avoid division by 0)\n",
        "test['page_hit_ratio'] = test['pageViews'] / (test['totalHits'] + 1)\n",
        "test['page_hit_ratio'] = test['page_hit_ratio'].fillna(0)\n",
        "\n",
        "# Number of unique sessions per user\n",
        "test['user_session_count'] = test['userId'].map(user_session_counts)\n",
        "# Fill unknown users with overall mean (just in case)\n",
        "global_mean_sessions = user_session_counts.mean()\n",
        "test['user_session_count'] = test['user_session_count'].fillna(global_mean_sessions)\n",
        "\n",
        "# Average purchase value per user\n",
        "test['avg_purchase_by_user'] = test['userId'].map(user_avg_purchase)\n",
        "# Fill missing users (not seen in train) with overall average\n",
        "overall_avg = user_avg_purchase.mean()\n",
        "test['avg_purchase_by_user'] = test['avg_purchase_by_user'].fillna(overall_avg)"
      ]
    },
    {
      "cell_type": "code",
      "execution_count": null,
      "id": "d4a4a88a-bcc9-45b8-9d7b-86a8a863876e",
      "metadata": {
        "id": "d4a4a88a-bcc9-45b8-9d7b-86a8a863876e"
      },
      "outputs": [],
      "source": [
        "test['date'] = pd.to_datetime(test['date'], format='%Y%m%d')\n",
        "test['sessionStart'] = pd.to_datetime(test['sessionStart'], unit='s')\n",
        "\n",
        "test['day_of_week'] = test['date'].dt.dayofweek\n",
        "test['month'] = test['date'].dt.month\n",
        "test['hour'] = test['sessionStart'].dt.hour\n",
        "\n",
        "# Now drop after extraction\n",
        "test = test.drop(columns=['date', 'sessionStart'])"
      ]
    },
    {
      "cell_type": "code",
      "execution_count": null,
      "id": "25fdb10e-8369-4546-a2ca-4ddfb5e2d44e",
      "metadata": {
        "id": "25fdb10e-8369-4546-a2ca-4ddfb5e2d44e"
      },
      "outputs": [],
      "source": [
        "for col in ['sessionNumber', 'pageViews', 'totalHits']:\n",
        "    Q1 = df[col].quantile(0.10)\n",
        "    Q3 = df[col].quantile(0.90)\n",
        "\n",
        "    IQR = Q3 - Q1\n",
        "\n",
        "    lower_bound = Q1 - 1.5 * IQR\n",
        "    upper_bound = Q3 + 1.5 * IQR\n",
        "\n",
        "    test[col] = test[col].clip(lower=lower_bound, upper=upper_bound)"
      ]
    },
    {
      "cell_type": "code",
      "execution_count": null,
      "id": "9efb6029-475c-44a5-9e15-b1af79d6bc33",
      "metadata": {
        "id": "9efb6029-475c-44a5-9e15-b1af79d6bc33"
      },
      "outputs": [],
      "source": [
        "test['browser'] = test['browser'].apply(lambda x: x if x in valid_browsers else 'Other')"
      ]
    },
    {
      "cell_type": "code",
      "execution_count": null,
      "id": "7f70514c-3534-4ff4-9ee1-3e5b9176d58e",
      "metadata": {
        "colab": {
          "base_uri": "https://localhost:8080/"
        },
        "id": "7f70514c-3534-4ff4-9ee1-3e5b9176d58e",
        "outputId": "e5fb922f-ceaf-4bda-92e0-b158f8914119"
      },
      "outputs": [
        {
          "output_type": "stream",
          "name": "stdout",
          "text": [
            "Preprocessing Done\n",
            "\n",
            "Preprocessed X shape:  (115787, 64)\n",
            "Preprocessed test shape:  (29006, 64)\n"
          ]
        }
      ],
      "source": [
        "# Fit and transform the COMPLETE training set\n",
        "X_preprocessed = preprocessor.fit_transform(X, y)\n",
        "# Transform the testing set\n",
        "test_preprocessed = preprocessor.transform(test)\n",
        "\n",
        "print(\"Preprocessing Done\")\n",
        "print()\n",
        "print(\"Preprocessed X shape: \", X_preprocessed.shape)\n",
        "print(\"Preprocessed test shape: \", test_preprocessed.shape)"
      ]
    },
    {
      "cell_type": "code",
      "execution_count": null,
      "id": "d16c9791-c260-46d5-bd1d-a9195bc96042",
      "metadata": {
        "id": "d16c9791-c260-46d5-bd1d-a9195bc96042"
      },
      "outputs": [],
      "source": [
        "# # best_model = XGBRegressor(\n",
        "# #     n_estimators = 343,\n",
        "# #     max_depth = 7,\n",
        "# #     lr = 0.05890776371030625,\n",
        "# #     subsample = 0.7320325193461752,\n",
        "# #     colsample = 0.6525959173893,\n",
        "# #     random_state = 42\n",
        "# # )\n",
        "\n",
        "# best_model = CatBoostRegressor(verbose=0, random_state=42)\n",
        "\n",
        "# best_model.fit(X_preprocessed, y)\n",
        "\n",
        "# real_y_pred = best_model.predict(test_preprocessed)\n",
        "# print(real_y_pred)"
      ]
    },
    {
      "cell_type": "code",
      "execution_count": null,
      "id": "a34e7749-b165-4a2f-acdb-4a3b4c956087",
      "metadata": {
        "id": "a34e7749-b165-4a2f-acdb-4a3b4c956087"
      },
      "outputs": [],
      "source": [
        "# real_y_pred.shape"
      ]
    },
    {
      "cell_type": "code",
      "execution_count": null,
      "id": "3d140cb6-6fc7-4b30-96fc-de56c3f67034",
      "metadata": {
        "id": "3d140cb6-6fc7-4b30-96fc-de56c3f67034"
      },
      "outputs": [],
      "source": [
        "# # Prepare submission\n",
        "# submission_df = pd.DataFrame({\n",
        "#     'id': test.index,\n",
        "#     'purchaseValue': real_y_pred\n",
        "# })\n",
        "\n",
        "# submission_df.head()"
      ]
    },
    {
      "cell_type": "code",
      "execution_count": null,
      "id": "6d73e660-7444-4c95-ac50-238df217f649",
      "metadata": {
        "id": "6d73e660-7444-4c95-ac50-238df217f649"
      },
      "outputs": [],
      "source": [
        "# submission_df.to_csv('submission2.csv', index=False)\n",
        "\n",
        "# print(\"✅ Submission file created successfully!\")\n",
        "# print(f\"📁 Saved as: submission.csv\")\n",
        "# print(f\"📊 Sample predictions:\\n{submission_df.head()}\")"
      ]
    },
    {
      "cell_type": "code",
      "execution_count": null,
      "id": "2c2944f0-2d83-4c8e-aa25-a05d186cecca",
      "metadata": {
        "id": "2c2944f0-2d83-4c8e-aa25-a05d186cecca"
      },
      "outputs": [],
      "source": [
        "from sklearn.preprocessing import StandardScaler\n",
        "\n",
        "scale_cols = high_card_cat_cols\n",
        "\n",
        "scaler = StandardScaler()\n",
        "\n",
        "X_train_neural = X_train_preprocessed.copy()\n",
        "X_test_neural = X_test_preprocessed.copy()\n",
        "\n",
        "X_train_neural[:, :len(scale_cols)] = scaler.fit_transform(X_train_preprocessed[:, :len(scale_cols)])\n",
        "X_test_neural[:, :len(scale_cols)] = scaler.transform(X_test_preprocessed[:, :len(scale_cols)])"
      ]
    },
    {
      "cell_type": "code",
      "execution_count": null,
      "id": "f9bba7db-0124-4cc8-a6bb-18540c1d0e47",
      "metadata": {
        "colab": {
          "base_uri": "https://localhost:8080/"
        },
        "id": "f9bba7db-0124-4cc8-a6bb-18540c1d0e47",
        "outputId": "c861fe45-8f98-4788-d8b1-7cc9a896fc4f"
      },
      "outputs": [
        {
          "output_type": "execute_result",
          "data": {
            "text/plain": [
              "(92629, 64)"
            ]
          },
          "metadata": {},
          "execution_count": 207
        }
      ],
      "source": [
        "X_train_neural.shape"
      ]
    },
    {
      "cell_type": "code",
      "execution_count": null,
      "id": "f0b305a4-cab3-4932-99fc-9835343c2821",
      "metadata": {
        "colab": {
          "base_uri": "https://localhost:8080/"
        },
        "id": "f0b305a4-cab3-4932-99fc-9835343c2821",
        "outputId": "4402f8f0-af96-4c86-b9d7-83df51da10e9"
      },
      "outputs": [
        {
          "output_type": "execute_result",
          "data": {
            "text/plain": [
              "(23158, 64)"
            ]
          },
          "metadata": {},
          "execution_count": 208
        }
      ],
      "source": [
        "X_test_neural.shape"
      ]
    },
    {
      "cell_type": "code",
      "execution_count": null,
      "id": "60027223-e8ba-477a-b4d2-f058eb7c11f4",
      "metadata": {
        "id": "60027223-e8ba-477a-b4d2-f058eb7c11f4"
      },
      "outputs": [],
      "source": [
        "X_train_neural = pd.DataFrame(X_train_neural)\n",
        "X_test_neural = pd.DataFrame(X_test_neural)"
      ]
    },
    {
      "cell_type": "code",
      "execution_count": null,
      "id": "5798dc8e-3adb-47c3-a8a1-8be601fa03fa",
      "metadata": {
        "id": "5798dc8e-3adb-47c3-a8a1-8be601fa03fa"
      },
      "outputs": [],
      "source": [
        "X_train_neural = X_train_neural.astype('float32')\n",
        "X_test_neural = X_test_neural.astype('float32')"
      ]
    },
    {
      "cell_type": "code",
      "execution_count": null,
      "id": "8527bc0f-e2cb-4258-b4e0-c088ec874c5b",
      "metadata": {
        "colab": {
          "base_uri": "https://localhost:8080/",
          "height": 130
        },
        "id": "8527bc0f-e2cb-4258-b4e0-c088ec874c5b",
        "outputId": "9cff539e-fac1-48d9-bd2d-738c3fe183d3"
      },
      "outputs": [
        {
          "output_type": "execute_result",
          "data": {
            "text/plain": [
              "             0         1         2         3         4         5         6   \\\n",
              "25714 -0.590387 -0.569224 -0.480334 -0.169932  2.006759 -0.500307 -0.500459   \n",
              "\n",
              "             7         8         9   ...   54   55   56   57   58   59   60  \\\n",
              "25714 -0.502313 -0.498603  1.412064  ...  1.0  0.0  1.0  0.0  1.0  0.5  0.0   \n",
              "\n",
              "        61   62   63  \n",
              "25714  6.0  1.0  3.0  \n",
              "\n",
              "[1 rows x 64 columns]"
            ],
            "text/html": [
              "\n",
              "  <div id=\"df-1e43c8a9-e685-49f6-afde-5f5005a6f23d\" class=\"colab-df-container\">\n",
              "    <div>\n",
              "<style scoped>\n",
              "    .dataframe tbody tr th:only-of-type {\n",
              "        vertical-align: middle;\n",
              "    }\n",
              "\n",
              "    .dataframe tbody tr th {\n",
              "        vertical-align: top;\n",
              "    }\n",
              "\n",
              "    .dataframe thead th {\n",
              "        text-align: right;\n",
              "    }\n",
              "</style>\n",
              "<table border=\"1\" class=\"dataframe\">\n",
              "  <thead>\n",
              "    <tr style=\"text-align: right;\">\n",
              "      <th></th>\n",
              "      <th>0</th>\n",
              "      <th>1</th>\n",
              "      <th>2</th>\n",
              "      <th>3</th>\n",
              "      <th>4</th>\n",
              "      <th>5</th>\n",
              "      <th>6</th>\n",
              "      <th>7</th>\n",
              "      <th>8</th>\n",
              "      <th>9</th>\n",
              "      <th>...</th>\n",
              "      <th>54</th>\n",
              "      <th>55</th>\n",
              "      <th>56</th>\n",
              "      <th>57</th>\n",
              "      <th>58</th>\n",
              "      <th>59</th>\n",
              "      <th>60</th>\n",
              "      <th>61</th>\n",
              "      <th>62</th>\n",
              "      <th>63</th>\n",
              "    </tr>\n",
              "  </thead>\n",
              "  <tbody>\n",
              "    <tr>\n",
              "      <th>25714</th>\n",
              "      <td>-0.590387</td>\n",
              "      <td>-0.569224</td>\n",
              "      <td>-0.480334</td>\n",
              "      <td>-0.169932</td>\n",
              "      <td>2.006759</td>\n",
              "      <td>-0.500307</td>\n",
              "      <td>-0.500459</td>\n",
              "      <td>-0.502313</td>\n",
              "      <td>-0.498603</td>\n",
              "      <td>1.412064</td>\n",
              "      <td>...</td>\n",
              "      <td>1.0</td>\n",
              "      <td>0.0</td>\n",
              "      <td>1.0</td>\n",
              "      <td>0.0</td>\n",
              "      <td>1.0</td>\n",
              "      <td>0.5</td>\n",
              "      <td>0.0</td>\n",
              "      <td>6.0</td>\n",
              "      <td>1.0</td>\n",
              "      <td>3.0</td>\n",
              "    </tr>\n",
              "  </tbody>\n",
              "</table>\n",
              "<p>1 rows × 64 columns</p>\n",
              "</div>\n",
              "    <div class=\"colab-df-buttons\">\n",
              "\n",
              "  <div class=\"colab-df-container\">\n",
              "    <button class=\"colab-df-convert\" onclick=\"convertToInteractive('df-1e43c8a9-e685-49f6-afde-5f5005a6f23d')\"\n",
              "            title=\"Convert this dataframe to an interactive table.\"\n",
              "            style=\"display:none;\">\n",
              "\n",
              "  <svg xmlns=\"http://www.w3.org/2000/svg\" height=\"24px\" viewBox=\"0 -960 960 960\">\n",
              "    <path d=\"M120-120v-720h720v720H120Zm60-500h600v-160H180v160Zm220 220h160v-160H400v160Zm0 220h160v-160H400v160ZM180-400h160v-160H180v160Zm440 0h160v-160H620v160ZM180-180h160v-160H180v160Zm440 0h160v-160H620v160Z\"/>\n",
              "  </svg>\n",
              "    </button>\n",
              "\n",
              "  <style>\n",
              "    .colab-df-container {\n",
              "      display:flex;\n",
              "      gap: 12px;\n",
              "    }\n",
              "\n",
              "    .colab-df-convert {\n",
              "      background-color: #E8F0FE;\n",
              "      border: none;\n",
              "      border-radius: 50%;\n",
              "      cursor: pointer;\n",
              "      display: none;\n",
              "      fill: #1967D2;\n",
              "      height: 32px;\n",
              "      padding: 0 0 0 0;\n",
              "      width: 32px;\n",
              "    }\n",
              "\n",
              "    .colab-df-convert:hover {\n",
              "      background-color: #E2EBFA;\n",
              "      box-shadow: 0px 1px 2px rgba(60, 64, 67, 0.3), 0px 1px 3px 1px rgba(60, 64, 67, 0.15);\n",
              "      fill: #174EA6;\n",
              "    }\n",
              "\n",
              "    .colab-df-buttons div {\n",
              "      margin-bottom: 4px;\n",
              "    }\n",
              "\n",
              "    [theme=dark] .colab-df-convert {\n",
              "      background-color: #3B4455;\n",
              "      fill: #D2E3FC;\n",
              "    }\n",
              "\n",
              "    [theme=dark] .colab-df-convert:hover {\n",
              "      background-color: #434B5C;\n",
              "      box-shadow: 0px 1px 3px 1px rgba(0, 0, 0, 0.15);\n",
              "      filter: drop-shadow(0px 1px 2px rgba(0, 0, 0, 0.3));\n",
              "      fill: #FFFFFF;\n",
              "    }\n",
              "  </style>\n",
              "\n",
              "    <script>\n",
              "      const buttonEl =\n",
              "        document.querySelector('#df-1e43c8a9-e685-49f6-afde-5f5005a6f23d button.colab-df-convert');\n",
              "      buttonEl.style.display =\n",
              "        google.colab.kernel.accessAllowed ? 'block' : 'none';\n",
              "\n",
              "      async function convertToInteractive(key) {\n",
              "        const element = document.querySelector('#df-1e43c8a9-e685-49f6-afde-5f5005a6f23d');\n",
              "        const dataTable =\n",
              "          await google.colab.kernel.invokeFunction('convertToInteractive',\n",
              "                                                    [key], {});\n",
              "        if (!dataTable) return;\n",
              "\n",
              "        const docLinkHtml = 'Like what you see? Visit the ' +\n",
              "          '<a target=\"_blank\" href=https://colab.research.google.com/notebooks/data_table.ipynb>data table notebook</a>'\n",
              "          + ' to learn more about interactive tables.';\n",
              "        element.innerHTML = '';\n",
              "        dataTable['output_type'] = 'display_data';\n",
              "        await google.colab.output.renderOutput(dataTable, element);\n",
              "        const docLink = document.createElement('div');\n",
              "        docLink.innerHTML = docLinkHtml;\n",
              "        element.appendChild(docLink);\n",
              "      }\n",
              "    </script>\n",
              "  </div>\n",
              "\n",
              "\n",
              "    </div>\n",
              "  </div>\n"
            ],
            "application/vnd.google.colaboratory.intrinsic+json": {
              "type": "dataframe"
            }
          },
          "metadata": {},
          "execution_count": 211
        }
      ],
      "source": [
        "X_train_neural.sample()"
      ]
    },
    {
      "cell_type": "code",
      "execution_count": null,
      "id": "7b0d29d4-479c-492f-a77f-500d5d881c19",
      "metadata": {
        "colab": {
          "base_uri": "https://localhost:8080/"
        },
        "id": "7b0d29d4-479c-492f-a77f-500d5d881c19",
        "outputId": "d2a574fd-e354-4603-967d-93a841cecdd9"
      },
      "outputs": [
        {
          "output_type": "execute_result",
          "data": {
            "text/plain": [
              "(92629, 64)"
            ]
          },
          "metadata": {},
          "execution_count": 212
        }
      ],
      "source": [
        "X_train_neural.shape"
      ]
    },
    {
      "cell_type": "code",
      "execution_count": null,
      "id": "caa90a64-12a0-49ac-9b76-9489fedb1a79",
      "metadata": {
        "colab": {
          "base_uri": "https://localhost:8080/"
        },
        "id": "caa90a64-12a0-49ac-9b76-9489fedb1a79",
        "outputId": "128446db-b3cf-4977-db69-1ad9d68b998e"
      },
      "outputs": [
        {
          "output_type": "execute_result",
          "data": {
            "text/plain": [
              "(23158, 64)"
            ]
          },
          "metadata": {},
          "execution_count": 213
        }
      ],
      "source": [
        "X_test_neural.shape"
      ]
    },
    {
      "cell_type": "code",
      "execution_count": null,
      "id": "aa58f350-a719-4924-b33d-84a1c2872272",
      "metadata": {
        "colab": {
          "base_uri": "https://localhost:8080/"
        },
        "id": "aa58f350-a719-4924-b33d-84a1c2872272",
        "outputId": "e8648f0c-4c9f-4b41-e7f1-431a0b87c766"
      },
      "outputs": [
        {
          "output_type": "stream",
          "name": "stdout",
          "text": [
            "<class 'pandas.core.frame.DataFrame'>\n",
            "RangeIndex: 92629 entries, 0 to 92628\n",
            "Data columns (total 64 columns):\n",
            " #   Column  Non-Null Count  Dtype  \n",
            "---  ------  --------------  -----  \n",
            " 0   0       92629 non-null  float32\n",
            " 1   1       92629 non-null  float32\n",
            " 2   2       92629 non-null  float32\n",
            " 3   3       92629 non-null  float32\n",
            " 4   4       92629 non-null  float32\n",
            " 5   5       92629 non-null  float32\n",
            " 6   6       92629 non-null  float32\n",
            " 7   7       92629 non-null  float32\n",
            " 8   8       92629 non-null  float32\n",
            " 9   9       92629 non-null  float32\n",
            " 10  10      92629 non-null  float32\n",
            " 11  11      92629 non-null  float32\n",
            " 12  12      92629 non-null  float32\n",
            " 13  13      92629 non-null  float32\n",
            " 14  14      92629 non-null  float32\n",
            " 15  15      92629 non-null  float32\n",
            " 16  16      92629 non-null  float32\n",
            " 17  17      92629 non-null  float32\n",
            " 18  18      92629 non-null  float32\n",
            " 19  19      92629 non-null  float32\n",
            " 20  20      92629 non-null  float32\n",
            " 21  21      92629 non-null  float32\n",
            " 22  22      92629 non-null  float32\n",
            " 23  23      92629 non-null  float32\n",
            " 24  24      92629 non-null  float32\n",
            " 25  25      92629 non-null  float32\n",
            " 26  26      92629 non-null  float32\n",
            " 27  27      92629 non-null  float32\n",
            " 28  28      92629 non-null  float32\n",
            " 29  29      92629 non-null  float32\n",
            " 30  30      92629 non-null  float32\n",
            " 31  31      92629 non-null  float32\n",
            " 32  32      92629 non-null  float32\n",
            " 33  33      92629 non-null  float32\n",
            " 34  34      92629 non-null  float32\n",
            " 35  35      92629 non-null  float32\n",
            " 36  36      92629 non-null  float32\n",
            " 37  37      92629 non-null  float32\n",
            " 38  38      92629 non-null  float32\n",
            " 39  39      92629 non-null  float32\n",
            " 40  40      92629 non-null  float32\n",
            " 41  41      92629 non-null  float32\n",
            " 42  42      92629 non-null  float32\n",
            " 43  43      92629 non-null  float32\n",
            " 44  44      92629 non-null  float32\n",
            " 45  45      92629 non-null  float32\n",
            " 46  46      92629 non-null  float32\n",
            " 47  47      92629 non-null  float32\n",
            " 48  48      92629 non-null  float32\n",
            " 49  49      92629 non-null  float32\n",
            " 50  50      92629 non-null  float32\n",
            " 51  51      92629 non-null  float32\n",
            " 52  52      92629 non-null  float32\n",
            " 53  53      92629 non-null  float32\n",
            " 54  54      92629 non-null  float32\n",
            " 55  55      92629 non-null  float32\n",
            " 56  56      92629 non-null  float32\n",
            " 57  57      92629 non-null  float32\n",
            " 58  58      92629 non-null  float32\n",
            " 59  59      92629 non-null  float32\n",
            " 60  60      92629 non-null  float32\n",
            " 61  61      92629 non-null  float32\n",
            " 62  62      92629 non-null  float32\n",
            " 63  63      92629 non-null  float32\n",
            "dtypes: float32(64)\n",
            "memory usage: 22.6 MB\n"
          ]
        }
      ],
      "source": [
        "X_train_neural.info()"
      ]
    },
    {
      "cell_type": "code",
      "execution_count": null,
      "id": "4ebfcdf6-690a-4d10-b39a-dd309cd45154",
      "metadata": {
        "id": "4ebfcdf6-690a-4d10-b39a-dd309cd45154"
      },
      "outputs": [],
      "source": [
        "# import tensorflow as tf\n",
        "# from tensorflow.keras import backend as K\n",
        "\n",
        "# def r2_metric(y_true, y_pred):\n",
        "#     SS_res = K.sum(K.square(y_true - y_pred))\n",
        "#     SS_tot = K.sum(K.square(y_true - K.mean(y_true)))\n",
        "#     return 1 - SS_res / (SS_tot + K.epsilon())"
      ]
    },
    {
      "cell_type": "code",
      "execution_count": null,
      "id": "fedc6ffb-0779-4d73-a904-00f932aee262",
      "metadata": {
        "id": "fedc6ffb-0779-4d73-a904-00f932aee262"
      },
      "outputs": [],
      "source": [
        "# from tensorflow.keras.models import Sequential\n",
        "# from tensorflow.keras.layers import Dense, Dropout, BatchNormalization\n",
        "# from tensorflow.keras.optimizers import Adam\n",
        "# from tensorflow.keras.callbacks import EarlyStopping, ReduceLROnPlateau\n",
        "\n",
        "# # Model Architecture\n",
        "# model = Sequential([\n",
        "#     Dense(256, activation='relu', input_shape=(X_train_neural.shape[1],)),\n",
        "#     BatchNormalization(),\n",
        "#     Dropout(0.4),\n",
        "#     Dense(128, activation='relu', kernel_regularizer='l2'),\n",
        "#     BatchNormalization(),\n",
        "#     Dropout(0.3),\n",
        "#     Dense(64, activation='relu'),\n",
        "#     Dense(1)  # Linear output for regression\n",
        "# ])\n",
        "\n",
        "# # Compile with R² tracking\n",
        "# model.compile(\n",
        "#     optimizer=Adam(learning_rate=0.001),\n",
        "#     loss='mse',\n",
        "#     metrics=[r2_metric]  # Now tracking R² during training\n",
        "# )\n",
        "\n",
        "# # Callbacks to maximize R²\n",
        "# callbacks = [\n",
        "#     EarlyStopping(monitor='val_r2_metric', patience=15, mode='max', restore_best_weights=True),\n",
        "#     ReduceLROnPlateau(monitor='val_r2_metric', factor=0.5, patience=5, mode='max')\n",
        "# ]"
      ]
    },
    {
      "cell_type": "code",
      "execution_count": null,
      "id": "a9b215c0-ce77-4ec3-88c9-3088d93473de",
      "metadata": {
        "scrolled": true,
        "id": "a9b215c0-ce77-4ec3-88c9-3088d93473de"
      },
      "outputs": [],
      "source": [
        "# history = model.fit(\n",
        "#     X_train_neural, y_train,\n",
        "#     validation_split=0.2,\n",
        "#     epochs=200,\n",
        "#     batch_size=512,\n",
        "#     callbacks=callbacks,\n",
        "#     verbose=1\n",
        "# )"
      ]
    },
    {
      "cell_type": "code",
      "execution_count": null,
      "id": "0f035e07-2775-4eee-a88a-a90a9410d112",
      "metadata": {
        "id": "0f035e07-2775-4eee-a88a-a90a9410d112"
      },
      "outputs": [],
      "source": [
        "# import tensorflow as tf\n",
        "# import multiprocessing\n",
        "\n",
        "# # Check GPU availability\n",
        "# gpus = tf.config.list_physical_devices('GPU')\n",
        "# print(f\"Available GPUs: {gpus}\")\n",
        "\n",
        "# # Check CPU cores (for parallel trials)\n",
        "# num_cores = multiprocessing.cpu_count()\n",
        "# print(f\"Available CPU cores: {num_cores}\")"
      ]
    },
    {
      "cell_type": "code",
      "execution_count": null,
      "id": "1e720b0d-0094-4014-8afa-26ef53d1e487",
      "metadata": {
        "id": "1e720b0d-0094-4014-8afa-26ef53d1e487"
      },
      "outputs": [],
      "source": [
        "# import optuna\n",
        "# from tensorflow.keras.regularizers import l1_l2\n",
        "# from tensorflow.keras.optimizers import Nadam\n",
        "\n",
        "# def objective(trial):\n",
        "#     # Hyperparameter search space\n",
        "#     params = {\n",
        "#         'num_layers': trial.suggest_int('num_layers', 1, 4),\n",
        "#         'units': trial.suggest_categorical('units', [64, 128, 256, 512]),\n",
        "#         'dropout_rate': trial.suggest_float('dropout_rate', 0.1, 0.5, step=0.1),\n",
        "#         'learning_rate': trial.suggest_float('lr', 1e-4, 1e-2, log=True),\n",
        "#         'l1_reg': trial.suggest_float('l1_reg', 1e-6, 1e-2, log=True),\n",
        "#         'l2_reg': trial.suggest_float('l2_reg', 1e-6, 1e-2, log=True),\n",
        "#         'batch_size': trial.suggest_categorical('batch_size', [128, 256, 512]),\n",
        "#     }\n",
        "\n",
        "#     # Build model\n",
        "#     model = Sequential()\n",
        "#     model.add(Dense(params['units'], activation='relu',\n",
        "#                    kernel_regularizer=l1_l2(params['l1_reg'], params['l2_reg']),\n",
        "#                    input_shape=(X_train_neural.shape[1],)))\n",
        "#     model.add(BatchNormalization())\n",
        "#     model.add(Dropout(params['dropout_rate']))\n",
        "\n",
        "#     # Add variable hidden layers\n",
        "#     for _ in range(params['num_layers'] - 1):\n",
        "#         model.add(Dense(params['units']//2, activation='relu',\n",
        "#                       kernel_regularizer=l1_l2(params['l1_reg'], params['l2_reg'])))\n",
        "#         model.add(BatchNormalization())\n",
        "#         model.add(Dropout(params['dropout_rate']))\n",
        "\n",
        "#     model.add(Dense(1))\n",
        "\n",
        "#     # Compile\n",
        "#     model.compile(\n",
        "#         optimizer=Nadam(learning_rate=params['learning_rate']),\n",
        "#         loss='mse',\n",
        "#         metrics=[r2_metric]\n",
        "#     )\n",
        "\n",
        "#     # Train with early stopping\n",
        "#     history = model.fit(\n",
        "#         X_train_neural, y_train,\n",
        "#         validation_split=0.2,\n",
        "#         epochs=200,\n",
        "#         batch_size=params['batch_size'],\n",
        "#         callbacks=[\n",
        "#             EarlyStopping(monitor='val_r2_metric', patience=15, mode='max',\n",
        "#                          restore_best_weights=True)\n",
        "#         ],\n",
        "#         verbose=0\n",
        "#     )\n",
        "\n",
        "#     # Return best validation R²\n",
        "#     return max(history.history['val_r2_metric'])"
      ]
    },
    {
      "cell_type": "code",
      "execution_count": null,
      "id": "b98a15db-bcc5-4bb2-8de5-3dd96347946b",
      "metadata": {
        "id": "b98a15db-bcc5-4bb2-8de5-3dd96347946b"
      },
      "outputs": [],
      "source": [
        "# import os\n",
        "# os.environ['TF_XLA_FLAGS'] = '--tf_xla_enable_xla_devices=false'"
      ]
    },
    {
      "cell_type": "code",
      "source": [
        "# !pip install optuna"
      ],
      "metadata": {
        "id": "ZiLTNaPHIMNx"
      },
      "id": "ZiLTNaPHIMNx",
      "execution_count": null,
      "outputs": []
    },
    {
      "cell_type": "code",
      "execution_count": null,
      "id": "1754e643-e32a-43a5-b09a-0e698fa0eb4f",
      "metadata": {
        "id": "1754e643-e32a-43a5-b09a-0e698fa0eb4f"
      },
      "outputs": [],
      "source": [
        "# import optuna\n",
        "# import numpy as np\n",
        "# import tensorflow as tf\n",
        "# from tensorflow.keras.models import Sequential\n",
        "# from tensorflow.keras.layers import Dense, Dropout, Input\n",
        "# from tensorflow.keras.optimizers import Adam\n",
        "# from tensorflow.keras.regularizers import l1_l2\n",
        "# from tensorflow.keras.callbacks import EarlyStopping\n",
        "# from sklearn.metrics import r2_score"
      ]
    },
    {
      "cell_type": "code",
      "execution_count": null,
      "id": "baafb27f-a3a0-42e5-8a03-9d5546c99d95",
      "metadata": {
        "id": "baafb27f-a3a0-42e5-8a03-9d5546c99d95"
      },
      "outputs": [],
      "source": [
        "# import tensorflow as tf\n",
        "# print(\"TensorFlow version:\", tf.__version__)\n",
        "# print(\"Num GPUs Available:\", len(tf.config.list_physical_devices('GPU')))"
      ]
    },
    {
      "cell_type": "code",
      "execution_count": null,
      "id": "68544d92-220e-4c4d-94b6-29ec09f2f300",
      "metadata": {
        "id": "68544d92-220e-4c4d-94b6-29ec09f2f300"
      },
      "outputs": [],
      "source": [
        "# # 🧠 For reproducibility\n",
        "# tf.random.set_seed(42)\n",
        "# np.random.seed(42)\n",
        "\n",
        "# def objective(trial):\n",
        "#     # 🎯 Hyperparameters\n",
        "#     params = {\n",
        "#         'n_layers': trial.suggest_int('n_layers', 1, 3),\n",
        "#         'hidden_units': trial.suggest_categorical('hidden_units', [64, 128, 256, 512]),\n",
        "#         'dropout': trial.suggest_float('dropout', 0.1, 0.5),\n",
        "#         'learning_rate': trial.suggest_float('learning_rate', 1e-4, 1e-2, log=True),\n",
        "#         'batch_size': trial.suggest_categorical('batch_size', [32, 64, 128]),\n",
        "#         'optimizer': trial.suggest_categorical('optimizer', ['adam', 'rmsprop']),\n",
        "#         'patience': trial.suggest_int('patience', 10, 30),\n",
        "#     }\n",
        "\n",
        "#     # 🔧 Select optimizer\n",
        "#     if params['optimizer'] == 'adam':\n",
        "#         optimizer = tf.keras.optimizers.Adam(learning_rate=params['learning_rate'])\n",
        "#     else:\n",
        "#         optimizer = tf.keras.optimizers.RMSprop(learning_rate=params['learning_rate'])\n",
        "\n",
        "#     # 🔨 Build Model\n",
        "#     model = Sequential()\n",
        "#     model.add(Input(shape=(X_train_neural.shape[1],)))\n",
        "#     for _ in range(params['n_layers']):\n",
        "#         model.add(Dense(params['hidden_units'], activation='relu'))\n",
        "#         model.add(Dropout(params['dropout']))\n",
        "\n",
        "#     model.add(Dense(1))  # Regression output\n",
        "\n",
        "#     model.compile(optimizer=optimizer, loss='mse')\n",
        "\n",
        "#     # 🛑 Early stopping\n",
        "#     early_stop = EarlyStopping(\n",
        "#         monitor='val_loss',\n",
        "#         patience=params['patience'],\n",
        "#         restore_best_weights=True\n",
        "#     )\n",
        "\n",
        "#     # 🚂 Training\n",
        "#     history = model.fit(\n",
        "#         X_train_neural, y_train,\n",
        "#         validation_data=(X_test_neural, y_test),\n",
        "#         batch_size=params['batch_size'],\n",
        "#         epochs=300,\n",
        "#         callbacks=[early_stop],\n",
        "#         verbose=0\n",
        "#     )\n",
        "\n",
        "#     # 📈 Evaluate\n",
        "#     y_pred = model.predict(X_test_neural, verbose=0)\n",
        "#     score = r2_score(y_test, y_pred)\n",
        "#     return score"
      ]
    },
    {
      "cell_type": "code",
      "execution_count": null,
      "id": "2f3806e9-56c5-4287-baee-f9f52ee6a8f4",
      "metadata": {
        "id": "2f3806e9-56c5-4287-baee-f9f52ee6a8f4"
      },
      "outputs": [],
      "source": [
        "# # 🔍 Run Optuna Study\n",
        "# study = optuna.create_study(direction='maximize')\n",
        "# study.optimize(objective, n_trials=50)\n",
        "\n",
        "# # 📊 Output best results\n",
        "# print(\"\\n✅ Best R² Score:\", study.best_value)\n",
        "# print(\"🔧 Best Hyperparameters:\")\n",
        "# for k, v in study.best_params.items():\n",
        "#     print(f\"   {k}: {v}\")"
      ]
    },
    {
      "cell_type": "code",
      "source": [
        "# Basic Stats\n",
        "total = len(df)\n",
        "zero_count = (df['purchaseValue'] == 0).sum()\n",
        "non_zero_count = total - zero_count\n",
        "\n",
        "print(\"🔢 Total Samples:\", total)\n",
        "print(\"🚫 Zero Values:\", zero_count, f\"({zero_count / total:.2%})\")\n",
        "print(\"✅ Non-Zero Values:\", non_zero_count, f\"({non_zero_count / total:.2%})\\n\")\n",
        "\n",
        "# Only non-zero values\n",
        "non_zero_vals = df[df['purchaseValue'] != 0]['purchaseValue']\n",
        "\n",
        "# Define bins (modify as needed)\n",
        "bins = [0, 100, 500, 1000, 5000, 10000, 50000, float('inf')]\n",
        "labels = ['0–100', '100–500', '500–1K', '1K–5K', '5K–10K', '10K–50K', '>50K']\n",
        "\n",
        "# Bin the data\n",
        "bin_counts = pd.cut(non_zero_vals, bins=bins, labels=labels, include_lowest=True).value_counts().sort_index()\n",
        "\n",
        "print(\"📊 Distribution of Non-Zero Purchase Values:\")\n",
        "for label, count in bin_counts.items():\n",
        "    percent = count / non_zero_count * 100\n",
        "    print(f\"   {label}: {count} ({percent:.2f}%)\")"
      ],
      "metadata": {
        "colab": {
          "base_uri": "https://localhost:8080/"
        },
        "id": "RS30jCYQ0PlO",
        "outputId": "821c4bb0-aeec-403f-a163-a7adad6b5ad7"
      },
      "id": "RS30jCYQ0PlO",
      "execution_count": null,
      "outputs": [
        {
          "output_type": "stream",
          "name": "stdout",
          "text": [
            "🔢 Total Samples: 115787\n",
            "🚫 Zero Values: 91990 (79.45%)\n",
            "✅ Non-Zero Values: 23797 (20.55%)\n",
            "\n",
            "📊 Distribution of Non-Zero Purchase Values:\n",
            "   0–100: 0 (0.00%)\n",
            "   100–500: 0 (0.00%)\n",
            "   500–1K: 0 (0.00%)\n",
            "   1K–5K: 0 (0.00%)\n",
            "   5K–10K: 1 (0.00%)\n",
            "   10K–50K: 2 (0.01%)\n",
            "   >50K: 23794 (99.99%)\n"
          ]
        }
      ]
    },
    {
      "cell_type": "code",
      "source": [
        "!pip install catboost"
      ],
      "metadata": {
        "colab": {
          "base_uri": "https://localhost:8080/"
        },
        "id": "FU5rcVaZ402-",
        "outputId": "6445c3c8-eb7a-48e1-e1e3-3d33dd901801"
      },
      "id": "FU5rcVaZ402-",
      "execution_count": null,
      "outputs": [
        {
          "output_type": "stream",
          "name": "stdout",
          "text": [
            "Collecting catboost\n",
            "  Downloading catboost-1.2.8-cp311-cp311-manylinux2014_x86_64.whl.metadata (1.2 kB)\n",
            "Requirement already satisfied: graphviz in /usr/local/lib/python3.11/dist-packages (from catboost) (0.21)\n",
            "Requirement already satisfied: matplotlib in /usr/local/lib/python3.11/dist-packages (from catboost) (3.10.0)\n",
            "Requirement already satisfied: numpy<3.0,>=1.16.0 in /usr/local/lib/python3.11/dist-packages (from catboost) (2.0.2)\n",
            "Requirement already satisfied: pandas>=0.24 in /usr/local/lib/python3.11/dist-packages (from catboost) (2.2.2)\n",
            "Requirement already satisfied: scipy in /usr/local/lib/python3.11/dist-packages (from catboost) (1.16.0)\n",
            "Requirement already satisfied: plotly in /usr/local/lib/python3.11/dist-packages (from catboost) (5.24.1)\n",
            "Requirement already satisfied: six in /usr/local/lib/python3.11/dist-packages (from catboost) (1.17.0)\n",
            "Requirement already satisfied: python-dateutil>=2.8.2 in /usr/local/lib/python3.11/dist-packages (from pandas>=0.24->catboost) (2.9.0.post0)\n",
            "Requirement already satisfied: pytz>=2020.1 in /usr/local/lib/python3.11/dist-packages (from pandas>=0.24->catboost) (2025.2)\n",
            "Requirement already satisfied: tzdata>=2022.7 in /usr/local/lib/python3.11/dist-packages (from pandas>=0.24->catboost) (2025.2)\n",
            "Requirement already satisfied: contourpy>=1.0.1 in /usr/local/lib/python3.11/dist-packages (from matplotlib->catboost) (1.3.2)\n",
            "Requirement already satisfied: cycler>=0.10 in /usr/local/lib/python3.11/dist-packages (from matplotlib->catboost) (0.12.1)\n",
            "Requirement already satisfied: fonttools>=4.22.0 in /usr/local/lib/python3.11/dist-packages (from matplotlib->catboost) (4.59.0)\n",
            "Requirement already satisfied: kiwisolver>=1.3.1 in /usr/local/lib/python3.11/dist-packages (from matplotlib->catboost) (1.4.8)\n",
            "Requirement already satisfied: packaging>=20.0 in /usr/local/lib/python3.11/dist-packages (from matplotlib->catboost) (25.0)\n",
            "Requirement already satisfied: pillow>=8 in /usr/local/lib/python3.11/dist-packages (from matplotlib->catboost) (11.3.0)\n",
            "Requirement already satisfied: pyparsing>=2.3.1 in /usr/local/lib/python3.11/dist-packages (from matplotlib->catboost) (3.2.3)\n",
            "Requirement already satisfied: tenacity>=6.2.0 in /usr/local/lib/python3.11/dist-packages (from plotly->catboost) (8.5.0)\n",
            "Downloading catboost-1.2.8-cp311-cp311-manylinux2014_x86_64.whl (99.2 MB)\n",
            "\u001b[2K   \u001b[90m━━━━━━━━━━━━━━━━━━━━━━━━━━━━━━━━━━━━━━━━\u001b[0m \u001b[32m99.2/99.2 MB\u001b[0m \u001b[31m8.9 MB/s\u001b[0m eta \u001b[36m0:00:00\u001b[0m\n",
            "\u001b[?25hInstalling collected packages: catboost\n",
            "Successfully installed catboost-1.2.8\n"
          ]
        }
      ]
    },
    {
      "cell_type": "code",
      "source": [
        "from sklearn.model_selection import train_test_split\n",
        "from sklearn.metrics import classification_report, r2_score\n",
        "from sklearn.ensemble import RandomForestClassifier\n",
        "from catboost import CatBoostRegressor\n",
        "import pandas as pd\n",
        "import numpy as np\n",
        "\n",
        "# STEP 1: Binary target for classification\n",
        "df['purchase_bin'] = (df['purchaseValue'] > 0).astype(int)\n",
        "\n",
        "# STEP 2: Create classification and regression datasets\n",
        "df_class = df.copy()  # For classification (0 vs non-zero)\n",
        "df_reg = df[df['purchaseValue'] > 0].copy()  # Only non-zero values\n",
        "\n",
        "# STEP 3: Define target and features\n",
        "target_class = 'purchase_bin'\n",
        "target_reg = 'purchaseValue'\n",
        "\n",
        "X_class = df_class.drop(columns=[target_class, target_reg])\n",
        "y_class = df_class[target_class]\n",
        "\n",
        "X_reg = df_reg.drop(columns=[target_class, target_reg])\n",
        "y_reg = df_reg[target_reg]\n",
        "\n",
        "# STEP 4: Train/Test Split\n",
        "X_train_class, X_test_class, y_train_class, y_test_class = train_test_split(X_class, y_class, test_size=0.2, random_state=42, stratify=y_class)\n",
        "X_train_reg, X_test_reg, y_train_reg, y_test_reg = train_test_split(X_reg, y_reg, test_size=0.2, random_state=42)\n",
        "\n",
        "# STEP 5: Fit Preprocessor (use same pipelines you already wrote)\n",
        "preprocessor.fit(X_train_class, y_train_class)\n",
        "X_train_class_processed = preprocessor.transform(X_train_class)\n",
        "X_test_class_processed = preprocessor.transform(X_test_class)\n",
        "\n",
        "X_train_reg_processed = preprocessor.transform(X_train_reg)\n",
        "X_test_reg_processed = preprocessor.transform(X_test_reg)"
      ],
      "metadata": {
        "id": "EAlMnO6S4rIO"
      },
      "id": "EAlMnO6S4rIO",
      "execution_count": null,
      "outputs": []
    },
    {
      "cell_type": "code",
      "source": [
        "# STEP 6: Classification Model\n",
        "clf = RandomForestClassifier(random_state=42, n_jobs=-1)\n",
        "clf.fit(X_train_class_processed, y_train_class)\n",
        "y_pred_class = clf.predict(X_test_class_processed)\n",
        "print(\"\\n📊 Classification Report:\")\n",
        "print(classification_report(y_test_class, y_pred_class))"
      ],
      "metadata": {
        "colab": {
          "base_uri": "https://localhost:8080/"
        },
        "id": "FOyeUFpO4xwt",
        "outputId": "4e8f1324-d986-418c-989b-57160cf54b11"
      },
      "id": "FOyeUFpO4xwt",
      "execution_count": null,
      "outputs": [
        {
          "output_type": "stream",
          "name": "stdout",
          "text": [
            "\n",
            "📊 Classification Report:\n",
            "              precision    recall  f1-score   support\n",
            "\n",
            "           0       1.00      0.99      1.00     18398\n",
            "           1       0.97      1.00      0.98      4760\n",
            "\n",
            "    accuracy                           0.99     23158\n",
            "   macro avg       0.99      0.99      0.99     23158\n",
            "weighted avg       0.99      0.99      0.99     23158\n",
            "\n"
          ]
        }
      ]
    },
    {
      "cell_type": "code",
      "source": [
        "# STEP 7: Regression Model on non-zero purchases\n",
        "reg = CatBoostRegressor(verbose=0, random_seed=42)\n",
        "reg.fit(X_train_reg_processed, y_train_reg)\n",
        "y_pred_reg = reg.predict(X_test_reg_processed)\n",
        "print(\"\\n📈 R² Score on Non-Zero Purchase Prediction:\", r2_score(y_test_reg, y_pred_reg))"
      ],
      "metadata": {
        "colab": {
          "base_uri": "https://localhost:8080/"
        },
        "id": "P1Mh53mu49bB",
        "outputId": "15409bcb-f5cb-49a9-f383-e0ac9faa1b0d"
      },
      "id": "P1Mh53mu49bB",
      "execution_count": null,
      "outputs": [
        {
          "output_type": "stream",
          "name": "stdout",
          "text": [
            "\n",
            "📈 R² Score on Non-Zero Purchase Prediction: 0.70304896615114\n"
          ]
        }
      ]
    },
    {
      "cell_type": "code",
      "source": [
        "# 🔮 Predict PurchaseValue on New Unseen Test Data\n",
        "def predict_purchase(df_test):\n",
        "    df_test_input = df_test.copy()\n",
        "\n",
        "    # 🔧 Apply same preprocessing pipeline\n",
        "    X_test_proc = preprocessor.transform(df_test_input)\n",
        "\n",
        "    # 🎯 First: Predict 0 or Non-Zero using the classifier\n",
        "    y_class_pred = clf.predict(X_test_proc)  # 0 or 1\n",
        "\n",
        "    # 🧠 Then: Predict purchase value (even for all, will mask later)\n",
        "    y_reg_pred = reg.predict(X_test_proc)\n",
        "\n",
        "    # 🤖 Final Prediction: Use 0 if classifier says zero, else regressor's prediction\n",
        "    y_final_pred = np.where(y_class_pred == 0, 0, y_reg_pred)\n",
        "\n",
        "    return y_final_pred"
      ],
      "metadata": {
        "id": "uvMlyvp15awv"
      },
      "id": "uvMlyvp15awv",
      "execution_count": null,
      "outputs": []
    },
    {
      "cell_type": "code",
      "source": [
        "# ✅ Run prediction\n",
        "final_predictions = predict_purchase(test)\n",
        "\n",
        "final_predictions.shape"
      ],
      "metadata": {
        "colab": {
          "base_uri": "https://localhost:8080/"
        },
        "id": "LNHesYvF5b-P",
        "outputId": "5f22cc7c-1a41-433e-eb50-42bb9bd766a4"
      },
      "id": "LNHesYvF5b-P",
      "execution_count": null,
      "outputs": [
        {
          "output_type": "execute_result",
          "data": {
            "text/plain": [
              "(29006,)"
            ]
          },
          "metadata": {},
          "execution_count": 233
        }
      ]
    },
    {
      "cell_type": "code",
      "source": [
        "# Prepare submission\n",
        "submission_df = pd.DataFrame({\n",
        "    'id': test.index,\n",
        "    'purchaseValue': final_predictions\n",
        "})\n",
        "\n",
        "submission_df.head()"
      ],
      "metadata": {
        "colab": {
          "base_uri": "https://localhost:8080/",
          "height": 206
        },
        "id": "axkW5S_m51HG",
        "outputId": "f14f0ef7-f208-4761-f4d6-99913932bca3"
      },
      "id": "axkW5S_m51HG",
      "execution_count": null,
      "outputs": [
        {
          "output_type": "execute_result",
          "data": {
            "text/plain": [
              "   id  purchaseValue\n",
              "0   0   4.197737e+07\n",
              "1   1   1.270208e+07\n",
              "2   2   0.000000e+00\n",
              "3   3   0.000000e+00\n",
              "4   4   1.539492e+07"
            ],
            "text/html": [
              "\n",
              "  <div id=\"df-764d9532-8658-4326-bc09-a6efff082b6f\" class=\"colab-df-container\">\n",
              "    <div>\n",
              "<style scoped>\n",
              "    .dataframe tbody tr th:only-of-type {\n",
              "        vertical-align: middle;\n",
              "    }\n",
              "\n",
              "    .dataframe tbody tr th {\n",
              "        vertical-align: top;\n",
              "    }\n",
              "\n",
              "    .dataframe thead th {\n",
              "        text-align: right;\n",
              "    }\n",
              "</style>\n",
              "<table border=\"1\" class=\"dataframe\">\n",
              "  <thead>\n",
              "    <tr style=\"text-align: right;\">\n",
              "      <th></th>\n",
              "      <th>id</th>\n",
              "      <th>purchaseValue</th>\n",
              "    </tr>\n",
              "  </thead>\n",
              "  <tbody>\n",
              "    <tr>\n",
              "      <th>0</th>\n",
              "      <td>0</td>\n",
              "      <td>4.197737e+07</td>\n",
              "    </tr>\n",
              "    <tr>\n",
              "      <th>1</th>\n",
              "      <td>1</td>\n",
              "      <td>1.270208e+07</td>\n",
              "    </tr>\n",
              "    <tr>\n",
              "      <th>2</th>\n",
              "      <td>2</td>\n",
              "      <td>0.000000e+00</td>\n",
              "    </tr>\n",
              "    <tr>\n",
              "      <th>3</th>\n",
              "      <td>3</td>\n",
              "      <td>0.000000e+00</td>\n",
              "    </tr>\n",
              "    <tr>\n",
              "      <th>4</th>\n",
              "      <td>4</td>\n",
              "      <td>1.539492e+07</td>\n",
              "    </tr>\n",
              "  </tbody>\n",
              "</table>\n",
              "</div>\n",
              "    <div class=\"colab-df-buttons\">\n",
              "\n",
              "  <div class=\"colab-df-container\">\n",
              "    <button class=\"colab-df-convert\" onclick=\"convertToInteractive('df-764d9532-8658-4326-bc09-a6efff082b6f')\"\n",
              "            title=\"Convert this dataframe to an interactive table.\"\n",
              "            style=\"display:none;\">\n",
              "\n",
              "  <svg xmlns=\"http://www.w3.org/2000/svg\" height=\"24px\" viewBox=\"0 -960 960 960\">\n",
              "    <path d=\"M120-120v-720h720v720H120Zm60-500h600v-160H180v160Zm220 220h160v-160H400v160Zm0 220h160v-160H400v160ZM180-400h160v-160H180v160Zm440 0h160v-160H620v160ZM180-180h160v-160H180v160Zm440 0h160v-160H620v160Z\"/>\n",
              "  </svg>\n",
              "    </button>\n",
              "\n",
              "  <style>\n",
              "    .colab-df-container {\n",
              "      display:flex;\n",
              "      gap: 12px;\n",
              "    }\n",
              "\n",
              "    .colab-df-convert {\n",
              "      background-color: #E8F0FE;\n",
              "      border: none;\n",
              "      border-radius: 50%;\n",
              "      cursor: pointer;\n",
              "      display: none;\n",
              "      fill: #1967D2;\n",
              "      height: 32px;\n",
              "      padding: 0 0 0 0;\n",
              "      width: 32px;\n",
              "    }\n",
              "\n",
              "    .colab-df-convert:hover {\n",
              "      background-color: #E2EBFA;\n",
              "      box-shadow: 0px 1px 2px rgba(60, 64, 67, 0.3), 0px 1px 3px 1px rgba(60, 64, 67, 0.15);\n",
              "      fill: #174EA6;\n",
              "    }\n",
              "\n",
              "    .colab-df-buttons div {\n",
              "      margin-bottom: 4px;\n",
              "    }\n",
              "\n",
              "    [theme=dark] .colab-df-convert {\n",
              "      background-color: #3B4455;\n",
              "      fill: #D2E3FC;\n",
              "    }\n",
              "\n",
              "    [theme=dark] .colab-df-convert:hover {\n",
              "      background-color: #434B5C;\n",
              "      box-shadow: 0px 1px 3px 1px rgba(0, 0, 0, 0.15);\n",
              "      filter: drop-shadow(0px 1px 2px rgba(0, 0, 0, 0.3));\n",
              "      fill: #FFFFFF;\n",
              "    }\n",
              "  </style>\n",
              "\n",
              "    <script>\n",
              "      const buttonEl =\n",
              "        document.querySelector('#df-764d9532-8658-4326-bc09-a6efff082b6f button.colab-df-convert');\n",
              "      buttonEl.style.display =\n",
              "        google.colab.kernel.accessAllowed ? 'block' : 'none';\n",
              "\n",
              "      async function convertToInteractive(key) {\n",
              "        const element = document.querySelector('#df-764d9532-8658-4326-bc09-a6efff082b6f');\n",
              "        const dataTable =\n",
              "          await google.colab.kernel.invokeFunction('convertToInteractive',\n",
              "                                                    [key], {});\n",
              "        if (!dataTable) return;\n",
              "\n",
              "        const docLinkHtml = 'Like what you see? Visit the ' +\n",
              "          '<a target=\"_blank\" href=https://colab.research.google.com/notebooks/data_table.ipynb>data table notebook</a>'\n",
              "          + ' to learn more about interactive tables.';\n",
              "        element.innerHTML = '';\n",
              "        dataTable['output_type'] = 'display_data';\n",
              "        await google.colab.output.renderOutput(dataTable, element);\n",
              "        const docLink = document.createElement('div');\n",
              "        docLink.innerHTML = docLinkHtml;\n",
              "        element.appendChild(docLink);\n",
              "      }\n",
              "    </script>\n",
              "  </div>\n",
              "\n",
              "\n",
              "    <div id=\"df-39422f13-9467-411a-b613-620c329502ae\">\n",
              "      <button class=\"colab-df-quickchart\" onclick=\"quickchart('df-39422f13-9467-411a-b613-620c329502ae')\"\n",
              "                title=\"Suggest charts\"\n",
              "                style=\"display:none;\">\n",
              "\n",
              "<svg xmlns=\"http://www.w3.org/2000/svg\" height=\"24px\"viewBox=\"0 0 24 24\"\n",
              "     width=\"24px\">\n",
              "    <g>\n",
              "        <path d=\"M19 3H5c-1.1 0-2 .9-2 2v14c0 1.1.9 2 2 2h14c1.1 0 2-.9 2-2V5c0-1.1-.9-2-2-2zM9 17H7v-7h2v7zm4 0h-2V7h2v10zm4 0h-2v-4h2v4z\"/>\n",
              "    </g>\n",
              "</svg>\n",
              "      </button>\n",
              "\n",
              "<style>\n",
              "  .colab-df-quickchart {\n",
              "      --bg-color: #E8F0FE;\n",
              "      --fill-color: #1967D2;\n",
              "      --hover-bg-color: #E2EBFA;\n",
              "      --hover-fill-color: #174EA6;\n",
              "      --disabled-fill-color: #AAA;\n",
              "      --disabled-bg-color: #DDD;\n",
              "  }\n",
              "\n",
              "  [theme=dark] .colab-df-quickchart {\n",
              "      --bg-color: #3B4455;\n",
              "      --fill-color: #D2E3FC;\n",
              "      --hover-bg-color: #434B5C;\n",
              "      --hover-fill-color: #FFFFFF;\n",
              "      --disabled-bg-color: #3B4455;\n",
              "      --disabled-fill-color: #666;\n",
              "  }\n",
              "\n",
              "  .colab-df-quickchart {\n",
              "    background-color: var(--bg-color);\n",
              "    border: none;\n",
              "    border-radius: 50%;\n",
              "    cursor: pointer;\n",
              "    display: none;\n",
              "    fill: var(--fill-color);\n",
              "    height: 32px;\n",
              "    padding: 0;\n",
              "    width: 32px;\n",
              "  }\n",
              "\n",
              "  .colab-df-quickchart:hover {\n",
              "    background-color: var(--hover-bg-color);\n",
              "    box-shadow: 0 1px 2px rgba(60, 64, 67, 0.3), 0 1px 3px 1px rgba(60, 64, 67, 0.15);\n",
              "    fill: var(--button-hover-fill-color);\n",
              "  }\n",
              "\n",
              "  .colab-df-quickchart-complete:disabled,\n",
              "  .colab-df-quickchart-complete:disabled:hover {\n",
              "    background-color: var(--disabled-bg-color);\n",
              "    fill: var(--disabled-fill-color);\n",
              "    box-shadow: none;\n",
              "  }\n",
              "\n",
              "  .colab-df-spinner {\n",
              "    border: 2px solid var(--fill-color);\n",
              "    border-color: transparent;\n",
              "    border-bottom-color: var(--fill-color);\n",
              "    animation:\n",
              "      spin 1s steps(1) infinite;\n",
              "  }\n",
              "\n",
              "  @keyframes spin {\n",
              "    0% {\n",
              "      border-color: transparent;\n",
              "      border-bottom-color: var(--fill-color);\n",
              "      border-left-color: var(--fill-color);\n",
              "    }\n",
              "    20% {\n",
              "      border-color: transparent;\n",
              "      border-left-color: var(--fill-color);\n",
              "      border-top-color: var(--fill-color);\n",
              "    }\n",
              "    30% {\n",
              "      border-color: transparent;\n",
              "      border-left-color: var(--fill-color);\n",
              "      border-top-color: var(--fill-color);\n",
              "      border-right-color: var(--fill-color);\n",
              "    }\n",
              "    40% {\n",
              "      border-color: transparent;\n",
              "      border-right-color: var(--fill-color);\n",
              "      border-top-color: var(--fill-color);\n",
              "    }\n",
              "    60% {\n",
              "      border-color: transparent;\n",
              "      border-right-color: var(--fill-color);\n",
              "    }\n",
              "    80% {\n",
              "      border-color: transparent;\n",
              "      border-right-color: var(--fill-color);\n",
              "      border-bottom-color: var(--fill-color);\n",
              "    }\n",
              "    90% {\n",
              "      border-color: transparent;\n",
              "      border-bottom-color: var(--fill-color);\n",
              "    }\n",
              "  }\n",
              "</style>\n",
              "\n",
              "      <script>\n",
              "        async function quickchart(key) {\n",
              "          const quickchartButtonEl =\n",
              "            document.querySelector('#' + key + ' button');\n",
              "          quickchartButtonEl.disabled = true;  // To prevent multiple clicks.\n",
              "          quickchartButtonEl.classList.add('colab-df-spinner');\n",
              "          try {\n",
              "            const charts = await google.colab.kernel.invokeFunction(\n",
              "                'suggestCharts', [key], {});\n",
              "          } catch (error) {\n",
              "            console.error('Error during call to suggestCharts:', error);\n",
              "          }\n",
              "          quickchartButtonEl.classList.remove('colab-df-spinner');\n",
              "          quickchartButtonEl.classList.add('colab-df-quickchart-complete');\n",
              "        }\n",
              "        (() => {\n",
              "          let quickchartButtonEl =\n",
              "            document.querySelector('#df-39422f13-9467-411a-b613-620c329502ae button');\n",
              "          quickchartButtonEl.style.display =\n",
              "            google.colab.kernel.accessAllowed ? 'block' : 'none';\n",
              "        })();\n",
              "      </script>\n",
              "    </div>\n",
              "\n",
              "    </div>\n",
              "  </div>\n"
            ],
            "application/vnd.google.colaboratory.intrinsic+json": {
              "type": "dataframe",
              "variable_name": "submission_df",
              "summary": "{\n  \"name\": \"submission_df\",\n  \"rows\": 29006,\n  \"fields\": [\n    {\n      \"column\": \"id\",\n      \"properties\": {\n        \"dtype\": \"number\",\n        \"std\": 8373,\n        \"min\": 0,\n        \"max\": 29005,\n        \"num_unique_values\": 29006,\n        \"samples\": [\n          2884,\n          21609,\n          8470\n        ],\n        \"semantic_type\": \"\",\n        \"description\": \"\"\n      }\n    },\n    {\n      \"column\": \"purchaseValue\",\n      \"properties\": {\n        \"dtype\": \"number\",\n        \"std\": 147504157.50358462,\n        \"min\": -32750028.284718126,\n        \"max\": 8772441410.805851,\n        \"num_unique_values\": 8957,\n        \"samples\": [\n          47681002.68781681,\n          5962832.780123174,\n          265144612.98834378\n        ],\n        \"semantic_type\": \"\",\n        \"description\": \"\"\n      }\n    }\n  ]\n}"
            }
          },
          "metadata": {},
          "execution_count": 234
        }
      ]
    },
    {
      "cell_type": "code",
      "source": [
        "submission_df.to_csv('submission.csv', index=False)\n",
        "\n",
        "print(\"✅ Submission file created successfully!\")\n",
        "print(f\"📁 Saved as: submission.csv\")\n",
        "print(f\"📊 Sample predictions:\\n{submission_df.head()}\")"
      ],
      "metadata": {
        "id": "IrMpIv2957T2",
        "outputId": "c185a9a4-d2ff-4cf9-c736-7609d75312eb",
        "colab": {
          "base_uri": "https://localhost:8080/"
        }
      },
      "id": "IrMpIv2957T2",
      "execution_count": null,
      "outputs": [
        {
          "output_type": "stream",
          "name": "stdout",
          "text": [
            "✅ Submission file created successfully!\n",
            "📁 Saved as: submission.csv\n",
            "📊 Sample predictions:\n",
            "   id  purchaseValue\n",
            "0   0   4.197737e+07\n",
            "1   1   1.270208e+07\n",
            "2   2   0.000000e+00\n",
            "3   3   0.000000e+00\n",
            "4   4   1.539492e+07\n"
          ]
        }
      ]
    }
  ],
  "metadata": {
    "kernelspec": {
      "display_name": "Python 3",
      "name": "python3"
    },
    "language_info": {
      "codemirror_mode": {
        "name": "ipython",
        "version": 3
      },
      "file_extension": ".py",
      "mimetype": "text/x-python",
      "name": "python",
      "nbconvert_exporter": "python",
      "pygments_lexer": "ipython3",
      "version": "3.9.23"
    },
    "colab": {
      "provenance": [],
      "gpuType": "T4"
    },
    "accelerator": "GPU"
  },
  "nbformat": 4,
  "nbformat_minor": 5
}