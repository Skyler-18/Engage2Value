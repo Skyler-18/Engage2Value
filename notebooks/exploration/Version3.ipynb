{
 "cells": [
  {
   "cell_type": "markdown",
   "id": "405c330c-7165-416f-9495-b1af5ab46901",
   "metadata": {},
   "source": [
    "# TRIED CLASSIFICATION + REGRESSION APPROACH TO GET BETTER PREDICTIONS"
   ]
  },
  {
   "cell_type": "code",
   "execution_count": 1,
   "id": "bccbb8a4-6359-4063-8588-341054cebb82",
   "metadata": {},
   "outputs": [],
   "source": [
    "import numpy as np\n",
    "import pandas as pd"
   ]
  },
  {
   "cell_type": "code",
   "execution_count": 2,
   "id": "d3aedf17-81d4-4a0a-bc43-2e3b83038fe9",
   "metadata": {},
   "outputs": [],
   "source": [
    "df = pd.read_csv('../../data/raw/train_data.csv')"
   ]
  },
  {
   "cell_type": "code",
   "execution_count": 3,
   "id": "b0852d08-dc89-49a3-844a-bd35e81240fa",
   "metadata": {},
   "outputs": [
    {
     "data": {
      "text/plain": [
       "236"
      ]
     },
     "execution_count": 3,
     "metadata": {},
     "output_type": "execute_result"
    }
   ],
   "source": [
    "df.duplicated().sum()"
   ]
  },
  {
   "cell_type": "code",
   "execution_count": 4,
   "id": "4da73539-20c5-4cd3-a81a-ed20f4c17b46",
   "metadata": {},
   "outputs": [],
   "source": [
    "df = df.drop_duplicates()"
   ]
  },
  {
   "cell_type": "code",
   "execution_count": 5,
   "id": "6ca5782d-37a7-4135-926a-5968c8e78eb8",
   "metadata": {},
   "outputs": [
    {
     "data": {
      "text/plain": [
       "0"
      ]
     },
     "execution_count": 5,
     "metadata": {},
     "output_type": "execute_result"
    }
   ],
   "source": [
    "df.duplicated().sum()"
   ]
  },
  {
   "cell_type": "code",
   "execution_count": 6,
   "id": "11c983e6-c259-4018-a76b-d194827b72c9",
   "metadata": {},
   "outputs": [
    {
     "name": "stdout",
     "output_type": "stream",
     "text": [
      "Columns Dropped:  ['trafficSource.adContent', 'device.screenResolution', 'trafficSource.adwordsClickInfo.adNetworkType', 'trafficSource.adwordsClickInfo.page', 'device.mobileDeviceBranding', 'trafficSource.adwordsClickInfo.slot', 'screenSize', 'device.mobileInputSelector', 'device.operatingSystemVersion', 'device.language', 'device.flashVersion', 'totals.visits', 'device.mobileDeviceModel', 'device.browserVersion', 'device.browserSize', 'geoNetwork.networkLocation', 'locationZone', 'device.mobileDeviceMarketingName', 'browserMajor', 'device.screenColors', 'socialEngagementType']\n"
     ]
    }
   ],
   "source": [
    "missing_thresh = 0.70\n",
    "missing_ratio = df.isnull().mean()\n",
    "drop_missing = missing_ratio[missing_ratio > missing_thresh].index.tolist()\n",
    "\n",
    "# Drop columns with only one unique value\n",
    "drop_constant = [col for col in df.columns if df[col].nunique() == 1]\n",
    "# Drop columns having string \"not available in demo\"\n",
    "drop_demo_cols = [col for col in df.columns if df[col].astype(str).str.contains(\"not available in demo\", case=False).all()]\n",
    "\n",
    "drop_cols = list(set(drop_missing + drop_constant + drop_demo_cols))\n",
    "\n",
    "cols_to_keep=['trafficSource.isTrueDirect', 'new_visits', 'totals.bounces', 'trafficSource.adwordsClickInfo.isVideoAd']\n",
    "for col in cols_to_keep:\n",
    "    drop_cols.remove(col)\n",
    "\n",
    "df = df.drop(columns=drop_cols)\n",
    "\n",
    "print(\"Columns Dropped: \", drop_cols)"
   ]
  },
  {
   "cell_type": "code",
   "execution_count": 7,
   "id": "97acd277-5a56-4cca-b0eb-56f41a82dd59",
   "metadata": {},
   "outputs": [],
   "source": [
    "df = df.dropna(subset=['date', 'sessionStart'])"
   ]
  },
  {
   "cell_type": "code",
   "execution_count": 8,
   "id": "05ffed0f-808f-4aa3-a68a-a9a6adc295f0",
   "metadata": {},
   "outputs": [],
   "source": [
    "# Replacing placeholder values with NaNs and NaN with 'missing'\n",
    "df['geoNetwork.region'] = df['geoNetwork.region'].replace(\"not available in demo dataset\", np.nan)\n",
    "df[\"geoNetwork.region\"] = df[\"geoNetwork.region\"].replace({\"(not set)\":np.nan})\n",
    "\n",
    "df[\"trafficSource.campaign\"] = df[\"trafficSource.campaign\"].replace({\"(not set)\":np.nan})\n",
    "df[\"trafficSource.keyword\"] = df[\"trafficSource.keyword\"].replace({np.nan:\"missing\"})"
   ]
  },
  {
   "cell_type": "code",
   "execution_count": 9,
   "id": "c47a28af-d69f-4560-b02c-e682f5e8e822",
   "metadata": {},
   "outputs": [],
   "source": [
    "df['totals.bounces'] = df['totals.bounces'].fillna(0)\n",
    "df['new_visits'] = df['new_visits'].fillna(0)\n",
    "\n",
    "df['pageViews'] = df['pageViews'].fillna(1)\n",
    "df['totalHits'] = df['totalHits'].fillna(1)\n",
    "df['sessionNumber'] = df['sessionNumber'].fillna(1)\n",
    "\n",
    "df['trafficSource.isTrueDirect'] = df['trafficSource.isTrueDirect'].fillna(False)\n",
    "df['trafficSource.adwordsClickInfo.isVideoAd'] = df['trafficSource.adwordsClickInfo.isVideoAd'].fillna(True)"
   ]
  },
  {
   "cell_type": "code",
   "execution_count": 10,
   "id": "98bbfb2d-a172-466b-a746-271fd44c5413",
   "metadata": {},
   "outputs": [],
   "source": [
    "df['is_campaign_set'] = df['trafficSource.campaign'].notna().astype(int)\n",
    "df['has_referral'] = df['trafficSource.referralPath'].notna().astype(int)"
   ]
  },
  {
   "cell_type": "code",
   "execution_count": 11,
   "id": "956f5886-556b-4dbb-a68a-d0d0112daadd",
   "metadata": {},
   "outputs": [],
   "source": [
    "df['region_city'] = df['geoNetwork.region'].astype(str) + \"_\" + df['geoNetwork.city'].astype(str)\n",
    "df['continent_subcontinent'] = df['geoNetwork.continent'].astype(str) + \"_\" + df['geoNetwork.subContinent'].astype(str)"
   ]
  },
  {
   "cell_type": "code",
   "execution_count": 12,
   "id": "45b00fac-db84-47bd-b42c-6e9d7f32ac60",
   "metadata": {},
   "outputs": [],
   "source": [
    "# Engagement metric: ratio of pageViews to totalHits (+1 to avoid division by 0)\n",
    "df['page_hit_ratio'] = df['pageViews'] / (df['totalHits'] + 1)\n",
    "df['page_hit_ratio'] = df['page_hit_ratio'].fillna(0)\n",
    "\n",
    "# Number of unique sessions per user\n",
    "user_session_counts = df.groupby('userId')['sessionId'].nunique()\n",
    "df['user_session_count'] = df['userId'].map(user_session_counts)\n",
    "\n",
    "# Average purchase value per user\n",
    "user_avg_purchase = df.groupby('userId')['purchaseValue'].mean()\n",
    "df['avg_purchase_by_user'] = df['userId'].map(user_avg_purchase)"
   ]
  },
  {
   "cell_type": "code",
   "execution_count": 13,
   "id": "d79d7d47-2d4a-4d75-9b01-42ef3b12685a",
   "metadata": {},
   "outputs": [],
   "source": [
    "df['date'] = pd.to_datetime(df['date'], format='%Y%m%d')\n",
    "df['sessionStart'] = pd.to_datetime(df['sessionStart'], unit='s')\n",
    "\n",
    "df['day_of_week'] = df['date'].dt.dayofweek\n",
    "df['month'] = df['date'].dt.month\n",
    "df['hour'] = df['sessionStart'].dt.hour\n",
    "\n",
    "# Now drop after extraction\n",
    "df = df.drop(columns=['date', 'sessionStart'])"
   ]
  },
  {
   "cell_type": "code",
   "execution_count": 14,
   "id": "01019cbc-1aae-43b9-92b5-cd69644eafaf",
   "metadata": {},
   "outputs": [],
   "source": [
    "for col in ['sessionNumber', 'pageViews', 'totalHits']:\n",
    "    Q1 = df[col].quantile(0.10)\n",
    "    Q3 = df[col].quantile(0.90)\n",
    "    \n",
    "    IQR = Q3 - Q1\n",
    "    \n",
    "    lower_bound = Q1 - 1.5 * IQR\n",
    "    upper_bound = Q3 + 1.5 * IQR\n",
    "\n",
    "    df[col] = df[col].clip(lower=lower_bound, upper=upper_bound)"
   ]
  },
  {
   "cell_type": "code",
   "execution_count": 15,
   "id": "b5281f6c-cfda-404f-8490-cf5b135d4684",
   "metadata": {},
   "outputs": [],
   "source": [
    "browser_counts = df['browser'].value_counts()\n",
    "valid_browsers = browser_counts[browser_counts >= 200].index\n",
    "\n",
    "df['browser'] = df['browser'].apply(lambda x: x if x in valid_browsers else 'Other')"
   ]
  },
  {
   "cell_type": "code",
   "execution_count": 16,
   "id": "abd2fe92-d5d3-45d7-ac84-32d1e8c8ac83",
   "metadata": {},
   "outputs": [
    {
     "ename": "MemoryError",
     "evalue": "",
     "output_type": "error",
     "traceback": [
      "\u001b[1;31m---------------------------------------------------------------------------\u001b[0m",
      "\u001b[1;31mMemoryError\u001b[0m                               Traceback (most recent call last)",
      "Cell \u001b[1;32mIn[16], line 4\u001b[0m\n\u001b[0;32m      2\u001b[0m max_value \u001b[38;5;241m=\u001b[39m df[\u001b[38;5;124m'\u001b[39m\u001b[38;5;124mpurchaseValue\u001b[39m\u001b[38;5;124m'\u001b[39m]\u001b[38;5;241m.\u001b[39mmax()\n\u001b[0;32m      3\u001b[0m bins \u001b[38;5;241m=\u001b[39m \u001b[38;5;28mrange\u001b[39m(\u001b[38;5;241m0\u001b[39m, \u001b[38;5;28mint\u001b[39m(max_value) \u001b[38;5;241m+\u001b[39m \u001b[38;5;241m50\u001b[39m, \u001b[38;5;241m50\u001b[39m)\n\u001b[1;32m----> 4\u001b[0m labels \u001b[38;5;241m=\u001b[39m [\u001b[38;5;124mf\u001b[39m\u001b[38;5;124m'\u001b[39m\u001b[38;5;132;01m{\u001b[39;00mi\u001b[38;5;132;01m}\u001b[39;00m\u001b[38;5;124m-\u001b[39m\u001b[38;5;132;01m{\u001b[39;00mi\u001b[38;5;241m+\u001b[39m\u001b[38;5;241m49\u001b[39m\u001b[38;5;132;01m}\u001b[39;00m\u001b[38;5;124m'\u001b[39m \u001b[38;5;28;01mfor\u001b[39;00m i \u001b[38;5;129;01min\u001b[39;00m bins[:\u001b[38;5;241m-\u001b[39m\u001b[38;5;241m1\u001b[39m]]\n\u001b[0;32m      6\u001b[0m \u001b[38;5;66;03m# Cut into bins\u001b[39;00m\n\u001b[0;32m      7\u001b[0m df[\u001b[38;5;124m'\u001b[39m\u001b[38;5;124mvalue_bin\u001b[39m\u001b[38;5;124m'\u001b[39m] \u001b[38;5;241m=\u001b[39m pd\u001b[38;5;241m.\u001b[39mcut(df[\u001b[38;5;124m'\u001b[39m\u001b[38;5;124mpurchaseValue\u001b[39m\u001b[38;5;124m'\u001b[39m], bins\u001b[38;5;241m=\u001b[39mbins, labels\u001b[38;5;241m=\u001b[39mlabels, right\u001b[38;5;241m=\u001b[39m\u001b[38;5;28;01mFalse\u001b[39;00m)\n",
      "Cell \u001b[1;32mIn[16], line 4\u001b[0m, in \u001b[0;36m<listcomp>\u001b[1;34m(.0)\u001b[0m\n\u001b[0;32m      2\u001b[0m max_value \u001b[38;5;241m=\u001b[39m df[\u001b[38;5;124m'\u001b[39m\u001b[38;5;124mpurchaseValue\u001b[39m\u001b[38;5;124m'\u001b[39m]\u001b[38;5;241m.\u001b[39mmax()\n\u001b[0;32m      3\u001b[0m bins \u001b[38;5;241m=\u001b[39m \u001b[38;5;28mrange\u001b[39m(\u001b[38;5;241m0\u001b[39m, \u001b[38;5;28mint\u001b[39m(max_value) \u001b[38;5;241m+\u001b[39m \u001b[38;5;241m50\u001b[39m, \u001b[38;5;241m50\u001b[39m)\n\u001b[1;32m----> 4\u001b[0m labels \u001b[38;5;241m=\u001b[39m [\u001b[38;5;124mf\u001b[39m\u001b[38;5;124m'\u001b[39m\u001b[38;5;132;01m{\u001b[39;00mi\u001b[38;5;132;01m}\u001b[39;00m\u001b[38;5;124m-\u001b[39m\u001b[38;5;132;01m{\u001b[39;00mi\u001b[38;5;241m+\u001b[39m\u001b[38;5;241m49\u001b[39m\u001b[38;5;132;01m}\u001b[39;00m\u001b[38;5;124m'\u001b[39m \u001b[38;5;28;01mfor\u001b[39;00m i \u001b[38;5;129;01min\u001b[39;00m bins[:\u001b[38;5;241m-\u001b[39m\u001b[38;5;241m1\u001b[39m]]\n\u001b[0;32m      6\u001b[0m \u001b[38;5;66;03m# Cut into bins\u001b[39;00m\n\u001b[0;32m      7\u001b[0m df[\u001b[38;5;124m'\u001b[39m\u001b[38;5;124mvalue_bin\u001b[39m\u001b[38;5;124m'\u001b[39m] \u001b[38;5;241m=\u001b[39m pd\u001b[38;5;241m.\u001b[39mcut(df[\u001b[38;5;124m'\u001b[39m\u001b[38;5;124mpurchaseValue\u001b[39m\u001b[38;5;124m'\u001b[39m], bins\u001b[38;5;241m=\u001b[39mbins, labels\u001b[38;5;241m=\u001b[39mlabels, right\u001b[38;5;241m=\u001b[39m\u001b[38;5;28;01mFalse\u001b[39;00m)\n",
      "\u001b[1;31mMemoryError\u001b[0m: "
     ]
    }
   ],
   "source": [
    "# Create the bins and labels\n",
    "max_value = df['purchaseValue'].max()\n",
    "bins = range(0, int(max_value) + 50, 50)\n",
    "labels = [f'{i}-{i+49}' for i in bins[:-1]]\n",
    "\n",
    "# Cut into bins\n",
    "df['value_bin'] = pd.cut(df['purchaseValue'], bins=bins, labels=labels, right=False)\n",
    "\n",
    "# Count distribution\n",
    "distribution = df['value_bin'].value_counts().sort_index()\n",
    "\n",
    "# Display the distribution\n",
    "print(distribution)"
   ]
  }
 ],
 "metadata": {
  "kernelspec": {
   "display_name": "Python 3 (ipykernel)",
   "language": "python",
   "name": "python3"
  },
  "language_info": {
   "codemirror_mode": {
    "name": "ipython",
    "version": 3
   },
   "file_extension": ".py",
   "mimetype": "text/x-python",
   "name": "python",
   "nbconvert_exporter": "python",
   "pygments_lexer": "ipython3",
   "version": "3.8.10"
  }
 },
 "nbformat": 4,
 "nbformat_minor": 5
}
